{
 "cells": [
  {
   "cell_type": "markdown",
   "metadata": {},
   "source": [
    "## Introduction to Python for NLA\n",
    "Numerical Linear Algebra (NLA) is a branch of Computational Mathematics which studies how matrix and vector operations can be used to create computer algorithms which efficiently and accurately provide approximate answers to questions in continuous mathematics. \n",
    "\n",
    "Consequently, it is mandatory to be able to efficiently implement matrix operations, i.e. operations regarding matrices (that we will represent with uppercase letters $A, B, \\dots$) and vectors (that we will represent with lowercase letters $v, w, \\dots$). The main library in Python implementing all the main NLA operations is `numpy`. \n",
    "\n",
    "In this course, we will make massive use of `numpy`, together with its add-ons libraries, such as `scipy` and `pandas`.\n",
    "\n",
    "`numpy` can be imported into Python by typing\n",
    "\n",
    "```\n",
    "import numpy as np\n",
    "```\n",
    "\n",
    "at the beginning of your code. If `numpy` is not installed on your Python environment, please follow [numpy.org](https://numpy.org) for informations on how to install it.\n"
   ]
  },
  {
   "cell_type": "markdown",
   "metadata": {},
   "source": [
    "### Documentation\n",
    "At [numpy.org](https://numpy.org) it is possible to find a complete documentation of all the `numpy` functions with application examples."
   ]
  },
  {
   "cell_type": "markdown",
   "metadata": {},
   "source": [
    "### Numpy `ndarray`\n",
    "The basic object of `numpy` is the so-called `ndarray`, which defines the concept of vectors, matrices, tensors, ...\n",
    "The simplest way to create a numpy array is to cast it from a Python `list` or `tuple`. This can be simply done as:"
   ]
  },
  {
   "cell_type": "code",
   "execution_count": null,
   "metadata": {},
   "outputs": [],
   "source": [
    "import numpy as np\n",
    "\n",
    "# Define a Python list\n",
    "a = [1, 2, 3]\n",
    "\n",
    "# Convert it to numpy array\n",
    "a_vec = np.array(a)\n",
    "\n",
    "# Check the type of a_vec\n",
    "print(type(a_vec))"
   ]
  },
  {
   "cell_type": "markdown",
   "metadata": {},
   "source": [
    "A basic propriety of a numpy array is the `shape`, representing its dimension. For example, a 5-dimensional vector $a = (1, 2, 3, 4, 5)^T$ will have shape $(5, )$, while a $3 \\times 3$ matrix\n",
    "\n",
    "$$\n",
    "A = \\begin{bmatrix}\n",
    "    1 & 1 & -1 \\\\\n",
    "    2 & 0 & 0 \\\\\n",
    "    0 & 1 & 2\n",
    "\\end{bmatrix}\n",
    "$$\n",
    "\n",
    "have `shape` $(3, 3)$. A working example creating the matrix $A$ defined above and checking its dimension is"
   ]
  },
  {
   "cell_type": "code",
   "execution_count": null,
   "metadata": {},
   "outputs": [],
   "source": [
    "A = [[1, 1, -1], [2, 0, 0], [0, 1, 2]]\n",
    "A = np.array(A)\n",
    "\n",
    "print(A.shape) # Use .shape to print the shape"
   ]
  },
  {
   "cell_type": "markdown",
   "metadata": {},
   "source": [
    "### Other functions to create arrays\n",
    "In real applications, we will usually make use of huge matrices and vectos, with dimension that can easily reach a couple of millions. Clearly, it is not possible to define those kind of array by manually typing them and then converting them to numpy arrays with the `np.array` function. Luckily, this can be avoided when the array we need to create has a specific pattern. We will now list some functions we can use to simply create specific high-dimensional arrays.\n",
    "\n",
    "* `np.linspace(a, b, n)`: Creates a vector of length `n`, containing `n` elements uniformely distributed in the interval $[a, b]$.\n",
    "* `np.arange(start, end, step)`: Creates a vector containing all the integer numbers from `start` to `end-1`, skipping `step` numbers every time. \n",
    "* `np.zeros((m, n))`: Creates an $m \\times n$ matrix full of zeros. Clearly, to create a vector instead of a matrix, simply use `np.zeros((m, ))`.\n",
    "* `np.ones((m, n))`: Creates an $m \\times n$ matrix full of ones.\n",
    "* `np.zeros_like(a)`: Creates an array full of zeros of the same shape of `a`. This is equivalent to `np.zeros(a.shape)`.\n",
    "* `np.diag(v)`: Given a vector `v` of shape $(n, )$, returns an $n \\times n$ diagonal matrix with `v` as diagonal. \n",
    "* `np.random.randn(m, n)`: Creates an $m \\times n$ matrix of normally distributed elements (i.e. sampled from $\\mathcal{N}(0, I)$).\n",
    "\n",
    "For example, if we want to create a vector of length $10$ containing all the even numbers between $0$ and $18$, we can use"
   ]
  },
  {
   "cell_type": "code",
   "execution_count": null,
   "metadata": {},
   "outputs": [],
   "source": [
    "# Create the vector\n",
    "a = np.arange(0, 20, 2)\n",
    "\n",
    "# Visualize the vector\n",
    "print(a)"
   ]
  },
  {
   "cell_type": "markdown",
   "metadata": {},
   "source": [
    "> **_Exercise:_** Create an visualize the matrix $ A =  \\begin{bmatrix} 2 & 1 & 1 \\\\ 1 & 2 & 1 \\\\ 1 & 1 & 2\\end{bmatrix}$ and print its shape."
   ]
  },
  {
   "cell_type": "markdown",
   "metadata": {},
   "source": [
    "### Operations between `ndarray`\n",
    "Now that we are able to create arrays, we need to understand how to use them. To simplify the implementation of NLA algorithms, the operations between numpy arrays basically follows the same syntax you can find in every math textbook. In particular, almost every operations is applied _element-wise_.\n",
    "\n",
    "> A scalar operation between $n$-dimensional arrays $a$ and $b$ is said to be element-wise if it is applied to $a$ and $b$ element by element.\n",
    "\n",
    "For example, if \n",
    "\n",
    "$$\n",
    "a = \\begin{bmatrix} 1 \\\\ 0 \\\\ -1 \\end{bmatrix} \\qquad b = \\begin{bmatrix} 0 \\\\ 2 \\\\ 2 \\end{bmatrix}\n",
    "$$\n",
    "\n",
    "then, since\n",
    "\n",
    "$$\n",
    "a + b = \\begin{bmatrix} 1 + 0 \\\\ 0 + 2 \\\\ -1 + 2 \\end{bmatrix} = \\begin{bmatrix} 1 \\\\ 2 \\\\ 1 \\end{bmatrix}\n",
    "$$\n",
    "\n",
    "then we say that the `+` operation is element-wise. \n",
    "\n",
    "We'll list now the most important element-wise operations between arrays in numpy. When one of the two elements of the operators is a scalar number, it is threated as an array of the correct shape, where each element is equal to the number itself. In the following, we will use `a`, `b` to indicate generic arrays (vectors, matrices, ...), `v`, `w` to indicate vectors and `A`, `B` to indicate matrices.\n",
    "\n",
    "* `a + b`: Returns the element-wise sum of `a` and `b`. Requires the two arrays to have the same `shape`.\n",
    "* `a - b`: Returns the element-wise difference of `a` and `b`. Requires the two arrays to have the same `shape`.\n",
    "* `a * b`: Returns the element-wise multiplication of `a` and `b`. Requires the two arrays to have the same `shape`.\n",
    "* `a / b`: Returns the element-wise division between `a` and `b`. Requires the two arrays to have the same `shape`.\n",
    "* `a ** b`: Returns the element-wise exponentiation of `a` to the power of `b`. Requires the two arrays to have the same `shape`.\n",
    "* `np.exp(a)`: Returns the element-wise result of $e^a$.\n",
    "* `np.sin(a), np.cos(a), np.tan(a), np.log(a)`: Returns the corresponding element-wise operation applied to `a`.\n",
    "\n",
    "Other than element-wise operations, important operators widely used in NLA are the matrix-by-vector product, the matrix-by-matrix product and the inner product between vectors. Since those operations are mathematically similar, numpy implements them in the same way:\n",
    "\n",
    "* `a @ b`: Returns the matrix-by-matrix product between `a` and `b`. It requires the shapes of `a` and `b` to be compatible, e.g. shape of `a` $(m, n)$, shape of `b` $(n, k)$. The shape of the result is $(m, k)$.\n",
    "\n",
    "Clearly, when either `a` or `b` are vectors of the correct shape, then `@` returns the matrix-by-vector multiplication, while if both of them are vectors, then `a @ b` returns the inner product between the two vectors. The inner product can be equivalently written as `np.dot(a, b)`.\n",
    "\n",
    "Let's see an example code on how to use those operations."
   ]
  },
  {
   "cell_type": "code",
   "execution_count": null,
   "metadata": {},
   "outputs": [],
   "source": [
    "import numpy as np\n",
    "\n",
    "# Dimension of the problem\n",
    "n = 10\n",
    "\n",
    "# Create the vectors\n",
    "x1 = np.linspace(0, 1, n)\n",
    "x2 = np.random.randn(n)\n",
    "\n",
    "# Create the matrix\n",
    "A = np.random.randn(n, n)\n",
    "\n",
    "# Compute y1 and y2\n",
    "y1 = A @ x1\n",
    "y2 = A @ x2\n",
    "\n",
    "# Compute y = A(x1 + x2)\n",
    "y = A @ (x1 + x2)\n",
    "\n",
    "# Check the equality\n",
    "print(y)\n",
    "print(y1 + y2)"
   ]
  },
  {
   "cell_type": "markdown",
   "metadata": {},
   "source": [
    "> **_Exercise:_** Create two vectors $x_1$ and $x_2$ of dimension $n$ and check that \n",
    "> $e^{x_1} e^{x_2} = e^{x_1 + x_2}$"
   ]
  },
  {
   "cell_type": "markdown",
   "metadata": {},
   "source": [
    "### Logic operations between vectors\n",
    "Clearly, it is also possible to define element-wise logical operations between arrays. The results will always be a boolean array of the same dimension of the input arrays, where the logic is applied element by element. Here we report a table of the main logic operations:\n",
    "\n",
    "| Operator | Meaning |\n",
    "| -------- | ------- |\n",
    "|   ==     |   EQUAL |\n",
    "|   !=     |  NOT EQUAL |\n",
    "|   >, >=  | GREATER THAN |\n",
    "|   <, <=  | LOWER THAN |\n",
    "|   &     |   AND   |\n",
    "|   &#124;     |    OR   |\n",
    "|    !     |   NOT   |"
   ]
  },
  {
   "cell_type": "markdown",
   "metadata": {},
   "source": [
    "### Slicing\n",
    "An important operation we will often use in practice, is the so-called _slicing_. Slicing is extracting a portion of an array, indexed by a given index array. For example, consider\n",
    "\n",
    "$$\n",
    "v = [0, 1, -1, 2, 1, -1]^T\n",
    "$$\n",
    "\n",
    "and assume we want to extract the first three elements of $v$ and assign them to a new vector $w$. This can be easily done by"
   ]
  },
  {
   "cell_type": "code",
   "execution_count": null,
   "metadata": {},
   "outputs": [],
   "source": [
    "# Create the array\n",
    "v = np.array([0, 1, -1, 2, 1, -1])\n",
    "print(v)\n",
    "\n",
    "# Slicing\n",
    "w = v[0:3]\n",
    "print(w)"
   ]
  },
  {
   "cell_type": "markdown",
   "metadata": {},
   "source": [
    "The notation `v[start:end]` returns the elements of `v` from `start` to `end-1`. When `start`=0 as in the example above, it can be emitted (e.g. `v[0:3]` is equivalent to `v[:3]`). \n",
    "\n",
    "Slicing can also be performing by passing a numpy array of indices inside of the square brackets. For example, assume we want to extract the elements in even position of `v`. Then"
   ]
  },
  {
   "cell_type": "code",
   "execution_count": null,
   "metadata": {},
   "outputs": [],
   "source": [
    "# Create the array\n",
    "v = np.array([0, 1, -1, 2, 1, -1])\n",
    "\n",
    "# Slicing\n",
    "idx = np.arange(0, len(v), 2)\n",
    "w = v[idx]"
   ]
  },
  {
   "cell_type": "markdown",
   "metadata": {},
   "source": [
    "does the job.\n",
    "\n",
    "Finally, we can also slice by using boolean arrays. When this is the case, the elements in the position of the `True` values are returned. For example, this is how we extract the elements that `v` and `w` have in common."
   ]
  },
  {
   "cell_type": "code",
   "execution_count": null,
   "metadata": {},
   "outputs": [],
   "source": [
    "# Create arrays\n",
    "v = np.array([0, 1, -1, 2, 1, -1])\n",
    "w = np.array([0, 0, -1, 1, 2, -1])\n",
    "\n",
    "# Slicing\n",
    "t = v[v == w]\n",
    "print(v)\n",
    "print(w)\n",
    "print(t)"
   ]
  },
  {
   "cell_type": "markdown",
   "metadata": {},
   "source": [
    "### Slicing matrices\n",
    "Slicing matrices works the same way as slicing vectors. The sole difference is that we need to use a 2-dimensional indexing array. For example, if\n",
    "\n",
    "$$\n",
    "    A = \\begin{bmatrix} 1 & 2 & 3 \\\\ 4 & 5 & 6 \\\\ 7 & 8 & 9 \\end{bmatrix}\n",
    "$$\n",
    "\n",
    "and we want to extract the $2 \\times 2$ principal submatrix of $A$ (that is, the left upper-most $2 \\times 2$ submatrix of $A$), then we can do"
   ]
  },
  {
   "cell_type": "code",
   "execution_count": null,
   "metadata": {},
   "outputs": [],
   "source": [
    "# Create the matrix\n",
    "A = np.array([[1, 2, 3], [4, 5, 6], [7, 8, 9]])\n",
    "\n",
    "# Slicing\n",
    "B = A[:2, :2]"
   ]
  },
  {
   "cell_type": "markdown",
   "metadata": {},
   "source": [
    "> **_Exercise:_** Create an $n \\times n$ matrix $A$ of normally distributed values. Then, create a second matrix $B$ with the same shape of $A$ such that it is equal to $A$ when $a_{i, j}$ is positive, while it is equal to $0$ when $a_{i, j} < 0$."
   ]
  },
  {
   "cell_type": "markdown",
   "metadata": {},
   "source": [
    "### Matrix and Vector Manipulation\n",
    "Numpy also implements the basic operations on matrix and vectors. In particular, the following functions can be useful in this course:\n",
    "\n",
    "* `np.linalg.norm(a, p)`: Computes the $p$-norm of a vector or a matrix $a$;\n",
    "* `np.linalg.cond(A, p)`: Computes the condition number in $p$-norm of a matrix $A$;\n",
    "* `np.linalg.matrix_rank(A)`: Computes the rank of the matrix $A$;\n",
    "* `np.linalg.inv(A)`: When invertible, compute the inverse matrix of $A$. _Warning:_ Very slow;\n",
    "* `np.transpose(A)`: Compute the transpose matrix of $A$. It is equivalent to `A.T`;\n",
    "* `np.reshape(a, new_shape)`: Reshape an array `a` to a given shape."
   ]
  },
  {
   "cell_type": "markdown",
   "metadata": {},
   "source": [
    "### Read data with `pandas`\n",
    "Since we will frequently work with data, it will be important to be able to manipulate them. In this class, we will learn how to load a dataset into Python by using a library called `pandas`, whose documentation can be found [here](https://pandas.pydata.org/docs/user_guide/index.html#user-guide). \n",
    "\n",
    "As an example, download the data from Kaggle at the following link: [www.kaggle.com/mysarahmadbhat/us-births-2000-to-2014](https://www.kaggle.com/mysarahmadbhat/us-births-2000-to-2014). \n",
    "\n",
    "Then, place it in the same folder as the Python file on which you are working and use the following code to load it in memory."
   ]
  },
  {
   "cell_type": "code",
   "execution_count": null,
   "metadata": {},
   "outputs": [],
   "source": [
    "import pandas as pd\n",
    "\n",
    "# Read data from a csv file\n",
    "data = pd.read_csv('./data/US_births_2000-2014_SSA.csv')"
   ]
  },
  {
   "cell_type": "markdown",
   "metadata": {},
   "source": [
    "Pandas uses similar function name as numpy to keep everything coherent. For example, we can check the shape of `data` by using the function `print(data.shape)`. Moreover, a pandas dataframe can be casted into a numpy array by simply"
   ]
  },
  {
   "cell_type": "code",
   "execution_count": null,
   "metadata": {},
   "outputs": [],
   "source": [
    "import numpy as np\n",
    "\n",
    "# Cast into numpy array\n",
    "np_data = np.array(data)\n",
    "\n",
    "# Check that the dimension didn't change\n",
    "print(f\"{data.shape} should be equal to {np_data.shape}\")"
   ]
  }
 ],
 "metadata": {
  "kernelspec": {
   "display_name": "nn",
   "language": "python",
   "name": "python3"
  },
  "language_info": {
   "codemirror_mode": {
    "name": "ipython",
    "version": 3
   },
   "file_extension": ".py",
   "mimetype": "text/x-python",
   "name": "python",
   "nbconvert_exporter": "python",
   "pygments_lexer": "ipython3",
   "version": "3.12.2"
  }
 },
 "nbformat": 4,
 "nbformat_minor": 2
}
