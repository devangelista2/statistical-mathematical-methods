{
 "cells": [
  {
   "cell_type": "code",
   "execution_count": 1,
   "metadata": {},
   "outputs": [
    {
     "ename": "ModuleNotFoundError",
     "evalue": "No module named 'numpy'",
     "output_type": "error",
     "traceback": [
      "\u001b[31m---------------------------------------------------------------------------\u001b[39m",
      "\u001b[31mModuleNotFoundError\u001b[39m                       Traceback (most recent call last)",
      "\u001b[36mCell\u001b[39m\u001b[36m \u001b[39m\u001b[32mIn[1]\u001b[39m\u001b[32m, line 1\u001b[39m\n\u001b[32m----> \u001b[39m\u001b[32m1\u001b[39m \u001b[38;5;28;01mimport\u001b[39;00m\u001b[38;5;250m \u001b[39m\u001b[34;01mnumpy\u001b[39;00m\u001b[38;5;250m \u001b[39m\u001b[38;5;28;01mas\u001b[39;00m\u001b[38;5;250m \u001b[39m\u001b[34;01mnp\u001b[39;00m\n\u001b[32m      2\u001b[39m \u001b[38;5;28;01mimport\u001b[39;00m\u001b[38;5;250m \u001b[39m\u001b[34;01mscipy\u001b[39;00m\n\u001b[32m      4\u001b[39m \u001b[38;5;66;03m# Setting up the dimension\u001b[39;00m\n",
      "\u001b[31mModuleNotFoundError\u001b[39m: No module named 'numpy'"
     ]
    }
   ],
   "source": [
    "import numpy as np\n",
    "import scipy\n",
    "\n",
    "# Setting up the dimension\n",
    "n = 15\n",
    "\n",
    "# Creating the test problem (with a Random matrix)\n",
    "A = scipy.linalg.hilbert(n) # n x n hilber matrix\n",
    "x_true = np.ones((n, ))   # n-dimensional vector of ones\n",
    "\n",
    "y = A @ x_true # Compute the term y s.t. x_true is a sol.\n",
    "\n",
    "# Solving the system with numpy\n",
    "x_sol = np.linalg.solve(A, y)\n",
    "\n",
    "# Computing the accuracy\n",
    "E_rel = np.linalg.norm(x_true - x_sol, 2) / np.linalg.norm(x_true, 2)\n",
    "print(f\"The relative error is {E_rel}\")\n",
    "print(x_sol)"
   ]
  },
  {
   "cell_type": "code",
   "execution_count": 2,
   "metadata": {},
   "outputs": [
    {
     "ename": "NameError",
     "evalue": "name 'np' is not defined",
     "output_type": "error",
     "traceback": [
      "\u001b[31m---------------------------------------------------------------------------\u001b[39m",
      "\u001b[31mNameError\u001b[39m                                 Traceback (most recent call last)",
      "\u001b[36mCell\u001b[39m\u001b[36m \u001b[39m\u001b[32mIn[2]\u001b[39m\u001b[32m, line 5\u001b[39m\n\u001b[32m      1\u001b[39m \u001b[38;5;66;03m# We want to print out the condition number of the hilbert matrix A \u001b[39;00m\n\u001b[32m      2\u001b[39m \u001b[38;5;66;03m# for increasing dimension\u001b[39;00m\n\u001b[32m      3\u001b[39m n_max = \u001b[32m12\u001b[39m\n\u001b[32m----> \u001b[39m\u001b[32m5\u001b[39m condition_numbers = \u001b[43mnp\u001b[49m.zeros((n_max, ))\n\u001b[32m      6\u001b[39m \u001b[38;5;28;01mfor\u001b[39;00m n \u001b[38;5;129;01min\u001b[39;00m \u001b[38;5;28mrange\u001b[39m(\u001b[32m1\u001b[39m, n_max+\u001b[32m1\u001b[39m):\n\u001b[32m      7\u001b[39m     \u001b[38;5;66;03m# Define the hilbert matrix\u001b[39;00m\n\u001b[32m      8\u001b[39m     A = scipy.linalg.hilbert(n)\n",
      "\u001b[31mNameError\u001b[39m: name 'np' is not defined"
     ]
    }
   ],
   "source": [
    "# We want to print out the condition number of the hilbert matrix A \n",
    "# for increasing dimension\n",
    "n_max = 12\n",
    "\n",
    "condition_numbers = np.zeros((n_max, ))\n",
    "for n in range(1, n_max+1):\n",
    "    # Define the hilbert matrix\n",
    "    A = scipy.linalg.hilbert(n)\n",
    "\n",
    "    # Compute the condition number\n",
    "    cond = np.linalg.cond(A, p=2)\n",
    "\n",
    "    # Print and save\n",
    "    print(f\"Condition number for n = {n}: {cond}.\")\n",
    "    condition_numbers[n-1] = cond # \"n-1\" because range begins by 1!\n",
    "\n",
    "# Plot the condition number in semilogy plot\n",
    "import matplotlib.pyplot as plt\n",
    "plt.plot(np.arange(1, n_max+1), condition_numbers)\n",
    "plt.grid()\n",
    "plt.xlabel(r\"$n$\")\n",
    "plt.ylabel(r\"$k_2(A)$\")\n",
    "plt.show()"
   ]
  },
  {
   "cell_type": "code",
   "execution_count": 3,
   "metadata": {},
   "outputs": [
    {
     "ename": "NameError",
     "evalue": "name 'np' is not defined",
     "output_type": "error",
     "traceback": [
      "\u001b[31m---------------------------------------------------------------------------\u001b[39m",
      "\u001b[31mNameError\u001b[39m                                 Traceback (most recent call last)",
      "\u001b[36mCell\u001b[39m\u001b[36m \u001b[39m\u001b[32mIn[3]\u001b[39m\u001b[32m, line 5\u001b[39m\n\u001b[32m      1\u001b[39m \u001b[38;5;66;03m# We want to print out the condition number of the hilbert matrix vs random matrix\u001b[39;00m\n\u001b[32m      2\u001b[39m \u001b[38;5;66;03m# for increasing dimension\u001b[39;00m\n\u001b[32m      3\u001b[39m n_max = \u001b[32m12\u001b[39m\n\u001b[32m----> \u001b[39m\u001b[32m5\u001b[39m condition_numbers_rand = \u001b[43mnp\u001b[49m.zeros((n_max, ))\n\u001b[32m      6\u001b[39m condition_numbers_hilb = np.zeros((n_max, ))\n\u001b[32m      7\u001b[39m \u001b[38;5;28;01mfor\u001b[39;00m n \u001b[38;5;129;01min\u001b[39;00m \u001b[38;5;28mrange\u001b[39m(\u001b[32m1\u001b[39m, n_max+\u001b[32m1\u001b[39m):\n\u001b[32m      8\u001b[39m     \u001b[38;5;66;03m# Define the hilbert matrix\u001b[39;00m\n",
      "\u001b[31mNameError\u001b[39m: name 'np' is not defined"
     ]
    }
   ],
   "source": [
    "# We want to print out the condition number of the hilbert matrix vs random matrix\n",
    "# for increasing dimension\n",
    "n_max = 12\n",
    "\n",
    "condition_numbers_rand = np.zeros((n_max, ))\n",
    "condition_numbers_hilb = np.zeros((n_max, ))\n",
    "for n in range(1, n_max+1):\n",
    "    # Define the hilbert matrix\n",
    "    A_rand = np.random.randn(n, n)\n",
    "    A_hilb = scipy.linalg.hilbert(n)\n",
    "\n",
    "    # Compute the condition number\n",
    "    cond_rand = np.linalg.cond(A_rand, p=2)\n",
    "    cond_hilb = np.linalg.cond(A_hilb, p=2)\n",
    "\n",
    "    # Print and save\n",
    "    condition_numbers_rand[n-1] = cond_rand # \"n-1\" because range begins by 1!\n",
    "    condition_numbers_hilb[n-1] = cond_hilb # \"n-1\" because range begins by 1!\n",
    "\n",
    "# Plot the condition number in semilogy plot\n",
    "import matplotlib.pyplot as plt\n",
    "plt.semilogy(np.arange(1, n_max+1), condition_numbers_rand)\n",
    "plt.semilogy(np.arange(1, n_max+1), condition_numbers_hilb)\n",
    "plt.grid()\n",
    "plt.xlabel(r\"$n$\")\n",
    "plt.ylabel(r\"$\\log k_2(A)$\")\n",
    "plt.legend([\"Random\", \"Hilbert\"])\n",
    "plt.show()"
   ]
  },
  {
   "cell_type": "code",
   "execution_count": null,
   "metadata": {},
   "outputs": [],
   "source": []
  },
  {
   "cell_type": "code",
   "execution_count": 4,
   "metadata": {},
   "outputs": [
    {
     "ename": "ModuleNotFoundError",
     "evalue": "No module named 'numpy'",
     "output_type": "error",
     "traceback": [
      "\u001b[31m---------------------------------------------------------------------------\u001b[39m",
      "\u001b[31mModuleNotFoundError\u001b[39m                       Traceback (most recent call last)",
      "\u001b[36mCell\u001b[39m\u001b[36m \u001b[39m\u001b[32mIn[4]\u001b[39m\u001b[32m, line 1\u001b[39m\n\u001b[32m----> \u001b[39m\u001b[32m1\u001b[39m \u001b[38;5;28;01mimport\u001b[39;00m\u001b[38;5;250m \u001b[39m\u001b[34;01mnumpy\u001b[39;00m\u001b[38;5;250m \u001b[39m\u001b[38;5;28;01mas\u001b[39;00m\u001b[38;5;250m \u001b[39m\u001b[34;01mnp\u001b[39;00m\n\u001b[32m      2\u001b[39m \u001b[38;5;28;01mimport\u001b[39;00m\u001b[38;5;250m \u001b[39m\u001b[34;01mscipy\u001b[39;00m\n\u001b[32m      3\u001b[39m \u001b[38;5;28;01mimport\u001b[39;00m\u001b[38;5;250m \u001b[39m\u001b[34;01mscipy\u001b[39;00m\u001b[34;01m.\u001b[39;00m\u001b[34;01mlinalg\u001b[39;00m\n",
      "\u001b[31mModuleNotFoundError\u001b[39m: No module named 'numpy'"
     ]
    }
   ],
   "source": [
    "import numpy as np\n",
    "import scipy\n",
    "import scipy.linalg\n",
    "\n",
    "# Setting up the dimension\n",
    "n = 15\n",
    "\n",
    "# Creating the test problem (with Hilbert matrix)\n",
    "A_random = np.random.randn(n, n) # n x n random matrix\n",
    "A_hilbert = scipy.linalg.hilbert(n) # n x n hilbert matrix\n",
    "\n",
    "print(f\"Cond. Number Random matrix: {np.linalg.cond(A_random, p=2)}\")\n",
    "print(f\"Cond. Number Hilbert matrix: {np.linalg.cond(A_hilbert, p=2)}\")"
   ]
  },
  {
   "cell_type": "code",
   "execution_count": 5,
   "metadata": {},
   "outputs": [
    {
     "ename": "ModuleNotFoundError",
     "evalue": "No module named 'numpy'",
     "output_type": "error",
     "traceback": [
      "\u001b[31m---------------------------------------------------------------------------\u001b[39m",
      "\u001b[31mModuleNotFoundError\u001b[39m                       Traceback (most recent call last)",
      "\u001b[36mCell\u001b[39m\u001b[36m \u001b[39m\u001b[32mIn[5]\u001b[39m\u001b[32m, line 1\u001b[39m\n\u001b[32m----> \u001b[39m\u001b[32m1\u001b[39m \u001b[38;5;28;01mimport\u001b[39;00m\u001b[38;5;250m \u001b[39m\u001b[34;01mnumpy\u001b[39;00m\u001b[38;5;250m \u001b[39m\u001b[38;5;28;01mas\u001b[39;00m\u001b[38;5;250m \u001b[39m\u001b[34;01mnp\u001b[39;00m\n\u001b[32m      2\u001b[39m \u001b[38;5;28;01mimport\u001b[39;00m\u001b[38;5;250m \u001b[39m\u001b[34;01mscipy\u001b[39;00m\n\u001b[32m      3\u001b[39m \u001b[38;5;28;01mimport\u001b[39;00m\u001b[38;5;250m \u001b[39m\u001b[34;01mscipy\u001b[39;00m\u001b[34;01m.\u001b[39;00m\u001b[34;01mlinalg\u001b[39;00m\n",
      "\u001b[31mModuleNotFoundError\u001b[39m: No module named 'numpy'"
     ]
    }
   ],
   "source": [
    "import numpy as np\n",
    "import scipy\n",
    "import scipy.linalg\n",
    "\n",
    "# Define the dimension of the problem\n",
    "n = 1000\n",
    "\n",
    "#### IMPORTANT: Build test problem\n",
    "A = np.random.randn(n, n)\n",
    "x_true = np.ones((n, ))\n",
    "\n",
    "y = A @ x_true\n",
    "\n",
    "# Now we forget about x_true, and we solve Ax = y\n",
    "\n",
    "#### Solve with np.linalg.solve()\n",
    "x_sol1 = np.linalg.solve(A, y)\n",
    "print(f\"Rel. Err1: {np.linalg.norm(x_sol1 - x_true) / np.linalg.norm(x_true)}\")\n",
    "\n",
    "\n",
    "#### Solve with Forward-Backward\n",
    "P, L, U = scipy.linalg.lu(A)\n",
    "Pty = P.T @ y\n",
    "\n",
    "# Solve the first system\n",
    "z = scipy.linalg.solve_triangular(L, Pty, lower=True)\n",
    "\n",
    "# Solve the second system\n",
    "x_sol2 = scipy.linalg.solve_triangular(U, z, lower=False)\n",
    "print(f\"Rel. Err2: {np.linalg.norm(x_sol2 - x_true) / np.linalg.norm(x_true)}\")"
   ]
  },
  {
   "cell_type": "code",
   "execution_count": 6,
   "metadata": {},
   "outputs": [
    {
     "ename": "ModuleNotFoundError",
     "evalue": "No module named 'numpy'",
     "output_type": "error",
     "traceback": [
      "\u001b[31m---------------------------------------------------------------------------\u001b[39m",
      "\u001b[31mModuleNotFoundError\u001b[39m                       Traceback (most recent call last)",
      "\u001b[36mCell\u001b[39m\u001b[36m \u001b[39m\u001b[32mIn[6]\u001b[39m\u001b[32m, line 1\u001b[39m\n\u001b[32m----> \u001b[39m\u001b[32m1\u001b[39m \u001b[38;5;28;01mimport\u001b[39;00m\u001b[38;5;250m \u001b[39m\u001b[34;01mnumpy\u001b[39;00m\u001b[38;5;250m \u001b[39m\u001b[38;5;28;01mas\u001b[39;00m\u001b[38;5;250m \u001b[39m\u001b[34;01mnp\u001b[39;00m\n\u001b[32m      2\u001b[39m \u001b[38;5;28;01mimport\u001b[39;00m\u001b[38;5;250m \u001b[39m\u001b[34;01mscipy\u001b[39;00m\n\u001b[32m      3\u001b[39m \u001b[38;5;28;01mimport\u001b[39;00m\u001b[38;5;250m \u001b[39m\u001b[34;01mscipy\u001b[39;00m\u001b[34;01m.\u001b[39;00m\u001b[34;01mlinalg\u001b[39;00m\n",
      "\u001b[31mModuleNotFoundError\u001b[39m: No module named 'numpy'"
     ]
    }
   ],
   "source": [
    "import numpy as np\n",
    "import scipy\n",
    "import scipy.linalg\n",
    "\n",
    "# Define the dimension of the problem\n",
    "n = 13\n",
    "\n",
    "#### IMPORTANT: Build test problem\n",
    "A = scipy.linalg.hilbert(n)\n",
    "x_true = np.ones((n, ))\n",
    "\n",
    "y = A @ x_true\n",
    "\n",
    "# Now we forget about x_true, and we solve Ax = y\n",
    "\n",
    "# CHOLESKY DECOMPOSITION\n",
    "L = np.linalg.cholesky(A)\n",
    "\n",
    "# Solve the first system\n",
    "z = scipy.linalg.solve_triangular(L, y, lower=True)\n",
    "\n",
    "# Solve the second system\n",
    "x_sol = scipy.linalg.solve_triangular(L.T, z, lower=False)\n",
    "print(f\"Rel. Err: {np.linalg.norm(x_sol - x_true) / np.linalg.norm(x_true)}\")"
   ]
  }
 ],
 "metadata": {
  "kernelspec": {
   "display_name": "teaching",
   "language": "python",
   "name": "python3"
  },
  "language_info": {
   "codemirror_mode": {
    "name": "ipython",
    "version": 3
   },
   "file_extension": ".py",
   "mimetype": "text/x-python",
   "name": "python",
   "nbconvert_exporter": "python",
   "pygments_lexer": "ipython3",
   "version": "3.11.13"
  }
 },
 "nbformat": 4,
 "nbformat_minor": 2
}