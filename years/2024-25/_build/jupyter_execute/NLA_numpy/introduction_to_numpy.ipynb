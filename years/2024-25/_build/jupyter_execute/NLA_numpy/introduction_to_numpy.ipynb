{
 "cells": [
  {
   "cell_type": "markdown",
   "metadata": {},
   "source": [
    "## Introduction to Python for NLA\n",
    "Numerical Linear Algebra (NLA) is a branch of Computational Mathematics which studies how matrix and vector operations can be used to create computer algorithms which efficiently and accurately provide approximate answers to questions in continuous mathematics. \n",
    "\n",
    "Consequently, it is mandatory to be able to efficiently implement matrix operations, i.e. operations regarding matrices (that we will represent with uppercase letters $A, B, \\dots$) and vectors (that we will represent with lowercase letters $v, w, \\dots$). The main library in Python implementing all the main NLA operations is `numpy`. \n",
    "\n",
    "In this course, we will make massive use of `numpy`, together with its add-ons libraries, such as `scipy` and `pandas`.\n",
    "\n",
    "`numpy` can be imported into Python by typing\n",
    "\n",
    "```\n",
    "import numpy as np\n",
    "```\n",
    "\n",
    "at the beginning of your code. If `numpy` is not installed on your Python environment, please follow [numpy.org](https://numpy.org) for informations on how to install it.\n"
   ]
  },
  {
   "cell_type": "markdown",
   "metadata": {},
   "source": [
    "### Documentation\n",
    "At [numpy.org](https://numpy.org) it is possible to find a complete documentation of all the `numpy` functions with application examples."
   ]
  },
  {
   "cell_type": "markdown",
   "metadata": {},
   "source": [
    "### Numpy `ndarray`\n",
    "The basic object of `numpy` is the so-called `ndarray`, which defines the concept of vectors, matrices, tensors, ...\n",
    "The simplest way to create a numpy array is to cast it from a Python `list` or `tuple`. This can be simply done as:"
   ]
  },
  {
   "cell_type": "code",
   "execution_count": 1,
   "metadata": {},
   "outputs": [
    {
     "name": "stdout",
     "output_type": "stream",
     "text": [
      "<class 'numpy.ndarray'>\n"
     ]
    }
   ],
   "source": [
    "import numpy as np\n",
    "\n",
    "# Define a Python list\n",
    "a = [1, 2, 3]\n",
    "\n",
    "# Convert it to numpy array\n",
    "a_vec = np.array(a)\n",
    "\n",
    "# Check the type of a_vec\n",
    "print(type(a_vec))"
   ]
  },
  {
   "cell_type": "markdown",
   "metadata": {},
   "source": [
    "A basic propriety of a numpy array is the `shape`, representing its dimension. For example, a 5-dimensional vector $a = (1, 2, 3, 4, 5)^T$ will have shape $(5, )$, while a $3 \\times 3$ matrix\n",
    "\n",
    "$$\n",
    "A = \\begin{bmatrix}\n",
    "    1 & 1 & -1 \\\\\n",
    "    2 & 0 & 0 \\\\\n",
    "    0 & 1 & 2\n",
    "\\end{bmatrix}\n",
    "$$\n",
    "\n",
    "have `shape` $(3, 3)$. A working example creating the matrix $A$ defined above and checking its dimension is"
   ]
  },
  {
   "cell_type": "code",
   "execution_count": 2,
   "metadata": {},
   "outputs": [
    {
     "name": "stdout",
     "output_type": "stream",
     "text": [
      "(3, 3)\n"
     ]
    }
   ],
   "source": [
    "A = [[1, 1, -1], [2, 0, 0], [0, 1, 2]]\n",
    "A = np.array(A)\n",
    "\n",
    "print(A.shape) # Use .shape to print the shape"
   ]
  },
  {
   "cell_type": "markdown",
   "metadata": {},
   "source": [
    "### Other functions to create arrays\n",
    "In real applications, we will usually make use of huge matrices and vectos, with dimension that can easily reach a couple of millions. Clearly, it is not possible to define those kind of array by manually typing them and then converting them to numpy arrays with the `np.array` function. Luckily, this can be avoided when the array we need to create has a specific pattern. We will now list some functions we can use to simply create specific high-dimensional arrays.\n",
    "\n",
    "* `np.linspace(a, b, n)`: Creates a vector of length `n`, containing `n` elements uniformely distributed in the interval $[a, b]$.\n",
    "* `np.arange(start, end, step)`: Creates a vector containing all the integer numbers from `start` to `end-1`, skipping `step` numbers every time. \n",
    "* `np.zeros((m, n))`: Creates an $m \\times n$ matrix full of zeros. Clearly, to create a vector instead of a matrix, simply use `np.zeros((m, ))`.\n",
    "* `np.ones((m, n))`: Creates an $m \\times n$ matrix full of ones.\n",
    "* `np.zeros_like(a)`: Creates an array full of zeros of the same shape of `a`. This is equivalent to `np.zeros(a.shape)`.\n",
    "* `np.diag(v)`: Given a vector `v` of shape $(n, )$, returns an $n \\times n$ diagonal matrix with `v` as diagonal. \n",
    "* `np.random.randn(m, n)`: Creates an $m \\times n$ matrix of normally distributed elements (i.e. sampled from $\\mathcal{N}(0, I)$).\n",
    "\n",
    "For example, if we want to create a vector of length $10$ containing all the even numbers between $0$ and $18$, we can use"
   ]
  },
  {
   "cell_type": "code",
   "execution_count": 3,
   "metadata": {},
   "outputs": [
    {
     "name": "stdout",
     "output_type": "stream",
     "text": [
      "[ 0  2  4  6  8 10 12 14 16 18]\n"
     ]
    }
   ],
   "source": [
    "# Create the vector\n",
    "a = np.arange(0, 20, 2)\n",
    "\n",
    "# Visualize the vector\n",
    "print(a)"
   ]
  },
  {
   "cell_type": "markdown",
   "metadata": {},
   "source": [
    "> **_Exercise:_** Create an visualize the matrix $ A =  \\begin{bmatrix} 2 & 1 & 1 \\\\ 1 & 2 & 1 \\\\ 1 & 1 & 2\\end{bmatrix}$ and print its shape."
   ]
  },
  {
   "cell_type": "markdown",
   "metadata": {},
   "source": [
    "### Operations between `ndarray`\n",
    "Now that we are able to create arrays, we need to understand how to use them. To simplify the implementation of NLA algorithms, the operations between numpy arrays basically follows the same syntax you can find in every math textbook. In particular, almost every operations is applied _element-wise_.\n",
    "\n",
    "> A scalar operation between $n$-dimensional arrays $a$ and $b$ is said to be element-wise if it is applied to $a$ and $b$ element by element.\n",
    "\n",
    "For example, if \n",
    "\n",
    "$$\n",
    "a = \\begin{bmatrix} 1 \\\\ 0 \\\\ -1 \\end{bmatrix} \\qquad b = \\begin{bmatrix} 0 \\\\ 2 \\\\ 2 \\end{bmatrix}\n",
    "$$\n",
    "\n",
    "then, since\n",
    "\n",
    "$$\n",
    "a + b = \\begin{bmatrix} 1 + 0 \\\\ 0 + 2 \\\\ -1 + 2 \\end{bmatrix} = \\begin{bmatrix} 1 \\\\ 2 \\\\ 1 \\end{bmatrix}\n",
    "$$\n",
    "\n",
    "then we say that the `+` operation is element-wise. \n",
    "\n",
    "We'll list now the most important element-wise operations between arrays in numpy. When one of the two elements of the operators is a scalar number, it is threated as an array of the correct shape, where each element is equal to the number itself. In the following, we will use `a`, `b` to indicate generic arrays (vectors, matrices, ...), `v`, `w` to indicate vectors and `A`, `B` to indicate matrices.\n",
    "\n",
    "* `a + b`: Returns the element-wise sum of `a` and `b`. Requires the two arrays to have the same `shape`.\n",
    "* `a - b`: Returns the element-wise difference of `a` and `b`. Requires the two arrays to have the same `shape`.\n",
    "* `a * b`: Returns the element-wise multiplication of `a` and `b`. Requires the two arrays to have the same `shape`.\n",
    "* `a / b`: Returns the element-wise division between `a` and `b`. Requires the two arrays to have the same `shape`.\n",
    "* `a ** b`: Returns the element-wise exponentiation of `a` to the power of `b`. Requires the two arrays to have the same `shape`.\n",
    "* `np.exp(a)`: Returns the element-wise result of $e^a$.\n",
    "* `np.sin(a), np.cos(a), np.tan(a), np.log(a)`: Returns the corresponding element-wise operation applied to `a`.\n",
    "\n",
    "Other than element-wise operations, important operators widely used in NLA are the matrix-by-vector product, the matrix-by-matrix product and the inner product between vectors. Since those operations are mathematically similar, numpy implements them in the same way:\n",
    "\n",
    "* `a @ b`: Returns the matrix-by-matrix product between `a` and `b`. It requires the shapes of `a` and `b` to be compatible, e.g. shape of `a` $(m, n)$, shape of `b` $(n, k)$. The shape of the result is $(m, k)$.\n",
    "\n",
    "Clearly, when either `a` or `b` are vectors of the correct shape, then `@` returns the matrix-by-vector multiplication, while if both of them are vectors, then `a @ b` returns the inner product between the two vectors. The inner product can be equivalently written as `np.dot(a, b)`.\n",
    "\n",
    "Let's see an example code on how to use those operations."
   ]
  },
  {
   "cell_type": "code",
   "execution_count": 4,
   "metadata": {},
   "outputs": [
    {
     "name": "stdout",
     "output_type": "stream",
     "text": [
      "[ 0.36288063 -0.0431029  10.32324964 -4.71843775  4.90307335 -7.72307548\n",
      " -3.97662985  6.23552041  3.86850001 -1.55869273]\n",
      "[ 0.36288063 -0.0431029  10.32324964 -4.71843775  4.90307335 -7.72307548\n",
      " -3.97662985  6.23552041  3.86850001 -1.55869273]\n"
     ]
    }
   ],
   "source": [
    "import numpy as np\n",
    "\n",
    "# Dimension of the problem\n",
    "n = 10\n",
    "\n",
    "# Create the vectors\n",
    "x1 = np.linspace(0, 1, n)\n",
    "x2 = np.random.randn(n)\n",
    "\n",
    "# Create the matrix\n",
    "A = np.random.randn(n, n)\n",
    "\n",
    "# Compute y1 and y2\n",
    "y1 = A @ x1\n",
    "y2 = A @ x2\n",
    "\n",
    "# Compute y = A(x1 + x2)\n",
    "y = A @ (x1 + x2)\n",
    "\n",
    "# Check the equality\n",
    "print(y)\n",
    "print(y1 + y2)"
   ]
  },
  {
   "cell_type": "markdown",
   "metadata": {},
   "source": [
    "> **_Exercise:_** Create two vectors $x_1$ and $x_2$ of dimension $n$ and check that \n",
    "> $e^{x_1} e^{x_2} = e^{x_1 + x_2}$"
   ]
  },
  {
   "cell_type": "markdown",
   "metadata": {},
   "source": [
    "### Logic operations between vectors\n",
    "Clearly, it is also possible to define element-wise logical operations between arrays. The results will always be a boolean array of the same dimension of the input arrays, where the logic is applied element by element. Here we report a table of the main logic operations:\n",
    "\n",
    "| Operator | Meaning |\n",
    "| -------- | ------- |\n",
    "|   ==     |   EQUAL |\n",
    "|   !=     |  NOT EQUAL |\n",
    "|   >, >=  | GREATER THAN |\n",
    "|   <, <=  | LOWER THAN |\n",
    "|   &     |   AND   |\n",
    "|   &#124;     |    OR   |\n",
    "|    !     |   NOT   |"
   ]
  },
  {
   "cell_type": "markdown",
   "metadata": {},
   "source": [
    "### Slicing\n",
    "An important operation we will often use in practice, is the so-called _slicing_. Slicing is extracting a portion of an array, indexed by a given index array. For example, consider\n",
    "\n",
    "$$\n",
    "v = [0, 1, -1, 2, 1, -1]^T\n",
    "$$\n",
    "\n",
    "and assume we want to extract the first three elements of $v$ and assign them to a new vector $w$. This can be easily done by"
   ]
  },
  {
   "cell_type": "code",
   "execution_count": 5,
   "metadata": {},
   "outputs": [
    {
     "name": "stdout",
     "output_type": "stream",
     "text": [
      "[ 0  1 -1  2  1 -1]\n",
      "[ 0  1 -1]\n"
     ]
    }
   ],
   "source": [
    "# Create the array\n",
    "v = np.array([0, 1, -1, 2, 1, -1])\n",
    "print(v)\n",
    "\n",
    "# Slicing\n",
    "w = v[0:3]\n",
    "print(w)"
   ]
  },
  {
   "cell_type": "markdown",
   "metadata": {},
   "source": [
    "The notation `v[start:end]` returns the elements of `v` from `start` to `end-1`. When `start`=0 as in the example above, it can be emitted (e.g. `v[0:3]` is equivalent to `v[:3]`). \n",
    "\n",
    "Slicing can also be performing by passing a numpy array of indices inside of the square brackets. For example, assume we want to extract the elements in even position of `v`. Then"
   ]
  },
  {
   "cell_type": "code",
   "execution_count": 6,
   "metadata": {},
   "outputs": [],
   "source": [
    "# Create the array\n",
    "v = np.array([0, 1, -1, 2, 1, -1])\n",
    "\n",
    "# Slicing\n",
    "idx = np.arange(0, len(v), 2)\n",
    "w = v[idx]"
   ]
  },
  {
   "cell_type": "markdown",
   "metadata": {},
   "source": [
    "does the job.\n",
    "\n",
    "Finally, we can also slice by using boolean arrays. When this is the case, the elements in the position of the `True` values are returned. For example, this is how we extract the elements that `v` and `w` have in common."
   ]
  },
  {
   "cell_type": "code",
   "execution_count": 7,
   "metadata": {},
   "outputs": [
    {
     "name": "stdout",
     "output_type": "stream",
     "text": [
      "[ 0  1 -1  2  1 -1]\n",
      "[ 0  0 -1  1  2 -1]\n",
      "[ 0 -1 -1]\n"
     ]
    }
   ],
   "source": [
    "# Create arrays\n",
    "v = np.array([0, 1, -1, 2, 1, -1])\n",
    "w = np.array([0, 0, -1, 1, 2, -1])\n",
    "\n",
    "# Slicing\n",
    "t = v[v == w]\n",
    "print(v)\n",
    "print(w)\n",
    "print(t)"
   ]
  },
  {
   "cell_type": "markdown",
   "metadata": {},
   "source": [
    "### Slicing matrices\n",
    "Slicing matrices works the same way as slicing vectors. The sole difference is that we need to use a 2-dimensional indexing array. For example, if\n",
    "\n",
    "$$\n",
    "    A = \\begin{bmatrix} 1 & 2 & 3 \\\\ 4 & 5 & 6 \\\\ 7 & 8 & 9 \\end{bmatrix}\n",
    "$$\n",
    "\n",
    "and we want to extract the $2 \\times 2$ principal submatrix of $A$ (that is, the left upper-most $2 \\times 2$ submatrix of $A$), then we can do"
   ]
  },
  {
   "cell_type": "code",
   "execution_count": 8,
   "metadata": {},
   "outputs": [],
   "source": [
    "# Create the matrix\n",
    "A = np.array([[1, 2, 3], [4, 5, 6], [7, 8, 9]])\n",
    "\n",
    "# Slicing\n",
    "B = A[:2, :2]"
   ]
  },
  {
   "cell_type": "markdown",
   "metadata": {},
   "source": [
    "> **_Exercise:_** Create an $n \\times n$ matrix $A$ of normally distributed values. Then, create a second matrix $B$ with the same shape of $A$ such that it is equal to $A$ when $a_{i, j}$ is positive, while it is equal to $0$ when $a_{i, j} < 0$."
   ]
  },
  {
   "cell_type": "markdown",
   "metadata": {},
   "source": [
    "### Matrix and Vector Manipulation\n",
    "Numpy also implements the basic operations on matrix and vectors. In particular, the following functions can be useful in this course:\n",
    "\n",
    "* `np.linalg.norm(a, p)`: Computes the $p$-norm of a vector or a matrix $a$;\n",
    "* `np.linalg.cond(A, p)`: Computes the condition number in $p$-norm of a matrix $A$;\n",
    "* `np.linalg.matrix_rank(A)`: Computes the rank of the matrix $A$;\n",
    "* `np.linalg.inv(A)`: When invertible, compute the inverse matrix of $A$. _Warning:_ Very slow;\n",
    "* `np.transpose(A)`: Compute the transpose matrix of $A$. It is equivalent to `A.T`;\n",
    "* `np.reshape(a, new_shape)`: Reshape an array `a` to a given shape."
   ]
  },
  {
   "cell_type": "markdown",
   "metadata": {},
   "source": [
    "### Read data with `pandas`\n",
    "Since we will frequently work with data, it will be important to be able to manipulate them. In this class, we will learn how to load a dataset into Python by using a library called `pandas`, whose documentation can be found [here](https://pandas.pydata.org/docs/user_guide/index.html#user-guide). \n",
    "\n",
    "As an example, download the data from Kaggle at the following link: [www.kaggle.com/mysarahmadbhat/us-births-2000-to-2014](https://www.kaggle.com/mysarahmadbhat/us-births-2000-to-2014). \n",
    "\n",
    "Then, place it in the same folder as the Python file on which you are working and use the following code to load it in memory."
   ]
  },
  {
   "cell_type": "code",
   "execution_count": 9,
   "metadata": {},
   "outputs": [
    {
     "ename": "FileNotFoundError",
     "evalue": "[Errno 2] No such file or directory: './data/US_births_2000-2014_SSA.csv'",
     "output_type": "error",
     "traceback": [
      "\u001b[0;31m---------------------------------------------------------------------------\u001b[0m",
      "\u001b[0;31mFileNotFoundError\u001b[0m                         Traceback (most recent call last)",
      "Cell \u001b[0;32mIn[9], line 4\u001b[0m\n\u001b[1;32m      1\u001b[0m \u001b[38;5;28;01mimport\u001b[39;00m \u001b[38;5;21;01mpandas\u001b[39;00m \u001b[38;5;28;01mas\u001b[39;00m \u001b[38;5;21;01mpd\u001b[39;00m\n\u001b[1;32m      3\u001b[0m \u001b[38;5;66;03m# Read data from a csv file\u001b[39;00m\n\u001b[0;32m----> 4\u001b[0m data \u001b[38;5;241m=\u001b[39m \u001b[43mpd\u001b[49m\u001b[38;5;241;43m.\u001b[39;49m\u001b[43mread_csv\u001b[49m\u001b[43m(\u001b[49m\u001b[38;5;124;43m'\u001b[39;49m\u001b[38;5;124;43m./data/US_births_2000-2014_SSA.csv\u001b[39;49m\u001b[38;5;124;43m'\u001b[39;49m\u001b[43m)\u001b[49m\n",
      "File \u001b[0;32m/opt/anaconda3/envs/teaching/lib/python3.12/site-packages/pandas/io/parsers/readers.py:1026\u001b[0m, in \u001b[0;36mread_csv\u001b[0;34m(filepath_or_buffer, sep, delimiter, header, names, index_col, usecols, dtype, engine, converters, true_values, false_values, skipinitialspace, skiprows, skipfooter, nrows, na_values, keep_default_na, na_filter, verbose, skip_blank_lines, parse_dates, infer_datetime_format, keep_date_col, date_parser, date_format, dayfirst, cache_dates, iterator, chunksize, compression, thousands, decimal, lineterminator, quotechar, quoting, doublequote, escapechar, comment, encoding, encoding_errors, dialect, on_bad_lines, delim_whitespace, low_memory, memory_map, float_precision, storage_options, dtype_backend)\u001b[0m\n\u001b[1;32m   1013\u001b[0m kwds_defaults \u001b[38;5;241m=\u001b[39m _refine_defaults_read(\n\u001b[1;32m   1014\u001b[0m     dialect,\n\u001b[1;32m   1015\u001b[0m     delimiter,\n\u001b[0;32m   (...)\u001b[0m\n\u001b[1;32m   1022\u001b[0m     dtype_backend\u001b[38;5;241m=\u001b[39mdtype_backend,\n\u001b[1;32m   1023\u001b[0m )\n\u001b[1;32m   1024\u001b[0m kwds\u001b[38;5;241m.\u001b[39mupdate(kwds_defaults)\n\u001b[0;32m-> 1026\u001b[0m \u001b[38;5;28;01mreturn\u001b[39;00m \u001b[43m_read\u001b[49m\u001b[43m(\u001b[49m\u001b[43mfilepath_or_buffer\u001b[49m\u001b[43m,\u001b[49m\u001b[43m \u001b[49m\u001b[43mkwds\u001b[49m\u001b[43m)\u001b[49m\n",
      "File \u001b[0;32m/opt/anaconda3/envs/teaching/lib/python3.12/site-packages/pandas/io/parsers/readers.py:620\u001b[0m, in \u001b[0;36m_read\u001b[0;34m(filepath_or_buffer, kwds)\u001b[0m\n\u001b[1;32m    617\u001b[0m _validate_names(kwds\u001b[38;5;241m.\u001b[39mget(\u001b[38;5;124m\"\u001b[39m\u001b[38;5;124mnames\u001b[39m\u001b[38;5;124m\"\u001b[39m, \u001b[38;5;28;01mNone\u001b[39;00m))\n\u001b[1;32m    619\u001b[0m \u001b[38;5;66;03m# Create the parser.\u001b[39;00m\n\u001b[0;32m--> 620\u001b[0m parser \u001b[38;5;241m=\u001b[39m \u001b[43mTextFileReader\u001b[49m\u001b[43m(\u001b[49m\u001b[43mfilepath_or_buffer\u001b[49m\u001b[43m,\u001b[49m\u001b[43m \u001b[49m\u001b[38;5;241;43m*\u001b[39;49m\u001b[38;5;241;43m*\u001b[39;49m\u001b[43mkwds\u001b[49m\u001b[43m)\u001b[49m\n\u001b[1;32m    622\u001b[0m \u001b[38;5;28;01mif\u001b[39;00m chunksize \u001b[38;5;129;01mor\u001b[39;00m iterator:\n\u001b[1;32m    623\u001b[0m     \u001b[38;5;28;01mreturn\u001b[39;00m parser\n",
      "File \u001b[0;32m/opt/anaconda3/envs/teaching/lib/python3.12/site-packages/pandas/io/parsers/readers.py:1620\u001b[0m, in \u001b[0;36mTextFileReader.__init__\u001b[0;34m(self, f, engine, **kwds)\u001b[0m\n\u001b[1;32m   1617\u001b[0m     \u001b[38;5;28mself\u001b[39m\u001b[38;5;241m.\u001b[39moptions[\u001b[38;5;124m\"\u001b[39m\u001b[38;5;124mhas_index_names\u001b[39m\u001b[38;5;124m\"\u001b[39m] \u001b[38;5;241m=\u001b[39m kwds[\u001b[38;5;124m\"\u001b[39m\u001b[38;5;124mhas_index_names\u001b[39m\u001b[38;5;124m\"\u001b[39m]\n\u001b[1;32m   1619\u001b[0m \u001b[38;5;28mself\u001b[39m\u001b[38;5;241m.\u001b[39mhandles: IOHandles \u001b[38;5;241m|\u001b[39m \u001b[38;5;28;01mNone\u001b[39;00m \u001b[38;5;241m=\u001b[39m \u001b[38;5;28;01mNone\u001b[39;00m\n\u001b[0;32m-> 1620\u001b[0m \u001b[38;5;28mself\u001b[39m\u001b[38;5;241m.\u001b[39m_engine \u001b[38;5;241m=\u001b[39m \u001b[38;5;28;43mself\u001b[39;49m\u001b[38;5;241;43m.\u001b[39;49m\u001b[43m_make_engine\u001b[49m\u001b[43m(\u001b[49m\u001b[43mf\u001b[49m\u001b[43m,\u001b[49m\u001b[43m \u001b[49m\u001b[38;5;28;43mself\u001b[39;49m\u001b[38;5;241;43m.\u001b[39;49m\u001b[43mengine\u001b[49m\u001b[43m)\u001b[49m\n",
      "File \u001b[0;32m/opt/anaconda3/envs/teaching/lib/python3.12/site-packages/pandas/io/parsers/readers.py:1880\u001b[0m, in \u001b[0;36mTextFileReader._make_engine\u001b[0;34m(self, f, engine)\u001b[0m\n\u001b[1;32m   1878\u001b[0m     \u001b[38;5;28;01mif\u001b[39;00m \u001b[38;5;124m\"\u001b[39m\u001b[38;5;124mb\u001b[39m\u001b[38;5;124m\"\u001b[39m \u001b[38;5;129;01mnot\u001b[39;00m \u001b[38;5;129;01min\u001b[39;00m mode:\n\u001b[1;32m   1879\u001b[0m         mode \u001b[38;5;241m+\u001b[39m\u001b[38;5;241m=\u001b[39m \u001b[38;5;124m\"\u001b[39m\u001b[38;5;124mb\u001b[39m\u001b[38;5;124m\"\u001b[39m\n\u001b[0;32m-> 1880\u001b[0m \u001b[38;5;28mself\u001b[39m\u001b[38;5;241m.\u001b[39mhandles \u001b[38;5;241m=\u001b[39m \u001b[43mget_handle\u001b[49m\u001b[43m(\u001b[49m\n\u001b[1;32m   1881\u001b[0m \u001b[43m    \u001b[49m\u001b[43mf\u001b[49m\u001b[43m,\u001b[49m\n\u001b[1;32m   1882\u001b[0m \u001b[43m    \u001b[49m\u001b[43mmode\u001b[49m\u001b[43m,\u001b[49m\n\u001b[1;32m   1883\u001b[0m \u001b[43m    \u001b[49m\u001b[43mencoding\u001b[49m\u001b[38;5;241;43m=\u001b[39;49m\u001b[38;5;28;43mself\u001b[39;49m\u001b[38;5;241;43m.\u001b[39;49m\u001b[43moptions\u001b[49m\u001b[38;5;241;43m.\u001b[39;49m\u001b[43mget\u001b[49m\u001b[43m(\u001b[49m\u001b[38;5;124;43m\"\u001b[39;49m\u001b[38;5;124;43mencoding\u001b[39;49m\u001b[38;5;124;43m\"\u001b[39;49m\u001b[43m,\u001b[49m\u001b[43m \u001b[49m\u001b[38;5;28;43;01mNone\u001b[39;49;00m\u001b[43m)\u001b[49m\u001b[43m,\u001b[49m\n\u001b[1;32m   1884\u001b[0m \u001b[43m    \u001b[49m\u001b[43mcompression\u001b[49m\u001b[38;5;241;43m=\u001b[39;49m\u001b[38;5;28;43mself\u001b[39;49m\u001b[38;5;241;43m.\u001b[39;49m\u001b[43moptions\u001b[49m\u001b[38;5;241;43m.\u001b[39;49m\u001b[43mget\u001b[49m\u001b[43m(\u001b[49m\u001b[38;5;124;43m\"\u001b[39;49m\u001b[38;5;124;43mcompression\u001b[39;49m\u001b[38;5;124;43m\"\u001b[39;49m\u001b[43m,\u001b[49m\u001b[43m \u001b[49m\u001b[38;5;28;43;01mNone\u001b[39;49;00m\u001b[43m)\u001b[49m\u001b[43m,\u001b[49m\n\u001b[1;32m   1885\u001b[0m \u001b[43m    \u001b[49m\u001b[43mmemory_map\u001b[49m\u001b[38;5;241;43m=\u001b[39;49m\u001b[38;5;28;43mself\u001b[39;49m\u001b[38;5;241;43m.\u001b[39;49m\u001b[43moptions\u001b[49m\u001b[38;5;241;43m.\u001b[39;49m\u001b[43mget\u001b[49m\u001b[43m(\u001b[49m\u001b[38;5;124;43m\"\u001b[39;49m\u001b[38;5;124;43mmemory_map\u001b[39;49m\u001b[38;5;124;43m\"\u001b[39;49m\u001b[43m,\u001b[49m\u001b[43m \u001b[49m\u001b[38;5;28;43;01mFalse\u001b[39;49;00m\u001b[43m)\u001b[49m\u001b[43m,\u001b[49m\n\u001b[1;32m   1886\u001b[0m \u001b[43m    \u001b[49m\u001b[43mis_text\u001b[49m\u001b[38;5;241;43m=\u001b[39;49m\u001b[43mis_text\u001b[49m\u001b[43m,\u001b[49m\n\u001b[1;32m   1887\u001b[0m \u001b[43m    \u001b[49m\u001b[43merrors\u001b[49m\u001b[38;5;241;43m=\u001b[39;49m\u001b[38;5;28;43mself\u001b[39;49m\u001b[38;5;241;43m.\u001b[39;49m\u001b[43moptions\u001b[49m\u001b[38;5;241;43m.\u001b[39;49m\u001b[43mget\u001b[49m\u001b[43m(\u001b[49m\u001b[38;5;124;43m\"\u001b[39;49m\u001b[38;5;124;43mencoding_errors\u001b[39;49m\u001b[38;5;124;43m\"\u001b[39;49m\u001b[43m,\u001b[49m\u001b[43m \u001b[49m\u001b[38;5;124;43m\"\u001b[39;49m\u001b[38;5;124;43mstrict\u001b[39;49m\u001b[38;5;124;43m\"\u001b[39;49m\u001b[43m)\u001b[49m\u001b[43m,\u001b[49m\n\u001b[1;32m   1888\u001b[0m \u001b[43m    \u001b[49m\u001b[43mstorage_options\u001b[49m\u001b[38;5;241;43m=\u001b[39;49m\u001b[38;5;28;43mself\u001b[39;49m\u001b[38;5;241;43m.\u001b[39;49m\u001b[43moptions\u001b[49m\u001b[38;5;241;43m.\u001b[39;49m\u001b[43mget\u001b[49m\u001b[43m(\u001b[49m\u001b[38;5;124;43m\"\u001b[39;49m\u001b[38;5;124;43mstorage_options\u001b[39;49m\u001b[38;5;124;43m\"\u001b[39;49m\u001b[43m,\u001b[49m\u001b[43m \u001b[49m\u001b[38;5;28;43;01mNone\u001b[39;49;00m\u001b[43m)\u001b[49m\u001b[43m,\u001b[49m\n\u001b[1;32m   1889\u001b[0m \u001b[43m\u001b[49m\u001b[43m)\u001b[49m\n\u001b[1;32m   1890\u001b[0m \u001b[38;5;28;01massert\u001b[39;00m \u001b[38;5;28mself\u001b[39m\u001b[38;5;241m.\u001b[39mhandles \u001b[38;5;129;01mis\u001b[39;00m \u001b[38;5;129;01mnot\u001b[39;00m \u001b[38;5;28;01mNone\u001b[39;00m\n\u001b[1;32m   1891\u001b[0m f \u001b[38;5;241m=\u001b[39m \u001b[38;5;28mself\u001b[39m\u001b[38;5;241m.\u001b[39mhandles\u001b[38;5;241m.\u001b[39mhandle\n",
      "File \u001b[0;32m/opt/anaconda3/envs/teaching/lib/python3.12/site-packages/pandas/io/common.py:873\u001b[0m, in \u001b[0;36mget_handle\u001b[0;34m(path_or_buf, mode, encoding, compression, memory_map, is_text, errors, storage_options)\u001b[0m\n\u001b[1;32m    868\u001b[0m \u001b[38;5;28;01melif\u001b[39;00m \u001b[38;5;28misinstance\u001b[39m(handle, \u001b[38;5;28mstr\u001b[39m):\n\u001b[1;32m    869\u001b[0m     \u001b[38;5;66;03m# Check whether the filename is to be opened in binary mode.\u001b[39;00m\n\u001b[1;32m    870\u001b[0m     \u001b[38;5;66;03m# Binary mode does not support 'encoding' and 'newline'.\u001b[39;00m\n\u001b[1;32m    871\u001b[0m     \u001b[38;5;28;01mif\u001b[39;00m ioargs\u001b[38;5;241m.\u001b[39mencoding \u001b[38;5;129;01mand\u001b[39;00m \u001b[38;5;124m\"\u001b[39m\u001b[38;5;124mb\u001b[39m\u001b[38;5;124m\"\u001b[39m \u001b[38;5;129;01mnot\u001b[39;00m \u001b[38;5;129;01min\u001b[39;00m ioargs\u001b[38;5;241m.\u001b[39mmode:\n\u001b[1;32m    872\u001b[0m         \u001b[38;5;66;03m# Encoding\u001b[39;00m\n\u001b[0;32m--> 873\u001b[0m         handle \u001b[38;5;241m=\u001b[39m \u001b[38;5;28;43mopen\u001b[39;49m\u001b[43m(\u001b[49m\n\u001b[1;32m    874\u001b[0m \u001b[43m            \u001b[49m\u001b[43mhandle\u001b[49m\u001b[43m,\u001b[49m\n\u001b[1;32m    875\u001b[0m \u001b[43m            \u001b[49m\u001b[43mioargs\u001b[49m\u001b[38;5;241;43m.\u001b[39;49m\u001b[43mmode\u001b[49m\u001b[43m,\u001b[49m\n\u001b[1;32m    876\u001b[0m \u001b[43m            \u001b[49m\u001b[43mencoding\u001b[49m\u001b[38;5;241;43m=\u001b[39;49m\u001b[43mioargs\u001b[49m\u001b[38;5;241;43m.\u001b[39;49m\u001b[43mencoding\u001b[49m\u001b[43m,\u001b[49m\n\u001b[1;32m    877\u001b[0m \u001b[43m            \u001b[49m\u001b[43merrors\u001b[49m\u001b[38;5;241;43m=\u001b[39;49m\u001b[43merrors\u001b[49m\u001b[43m,\u001b[49m\n\u001b[1;32m    878\u001b[0m \u001b[43m            \u001b[49m\u001b[43mnewline\u001b[49m\u001b[38;5;241;43m=\u001b[39;49m\u001b[38;5;124;43m\"\u001b[39;49m\u001b[38;5;124;43m\"\u001b[39;49m\u001b[43m,\u001b[49m\n\u001b[1;32m    879\u001b[0m \u001b[43m        \u001b[49m\u001b[43m)\u001b[49m\n\u001b[1;32m    880\u001b[0m     \u001b[38;5;28;01melse\u001b[39;00m:\n\u001b[1;32m    881\u001b[0m         \u001b[38;5;66;03m# Binary mode\u001b[39;00m\n\u001b[1;32m    882\u001b[0m         handle \u001b[38;5;241m=\u001b[39m \u001b[38;5;28mopen\u001b[39m(handle, ioargs\u001b[38;5;241m.\u001b[39mmode)\n",
      "\u001b[0;31mFileNotFoundError\u001b[0m: [Errno 2] No such file or directory: './data/US_births_2000-2014_SSA.csv'"
     ]
    }
   ],
   "source": [
    "import pandas as pd\n",
    "\n",
    "# Read data from a csv file\n",
    "data = pd.read_csv('./data/US_births_2000-2014_SSA.csv')"
   ]
  },
  {
   "cell_type": "markdown",
   "metadata": {},
   "source": [
    "Pandas uses similar function name as numpy to keep everything coherent. For example, we can check the shape of `data` by using the function `print(data.shape)`. Moreover, a pandas dataframe can be casted into a numpy array by simply"
   ]
  },
  {
   "cell_type": "code",
   "execution_count": 10,
   "metadata": {},
   "outputs": [
    {
     "ename": "NameError",
     "evalue": "name 'data' is not defined",
     "output_type": "error",
     "traceback": [
      "\u001b[0;31m---------------------------------------------------------------------------\u001b[0m",
      "\u001b[0;31mNameError\u001b[0m                                 Traceback (most recent call last)",
      "Cell \u001b[0;32mIn[10], line 4\u001b[0m\n\u001b[1;32m      1\u001b[0m \u001b[38;5;28;01mimport\u001b[39;00m \u001b[38;5;21;01mnumpy\u001b[39;00m \u001b[38;5;28;01mas\u001b[39;00m \u001b[38;5;21;01mnp\u001b[39;00m\n\u001b[1;32m      3\u001b[0m \u001b[38;5;66;03m# Cast into numpy array\u001b[39;00m\n\u001b[0;32m----> 4\u001b[0m np_data \u001b[38;5;241m=\u001b[39m np\u001b[38;5;241m.\u001b[39marray(\u001b[43mdata\u001b[49m)\n\u001b[1;32m      6\u001b[0m \u001b[38;5;66;03m# Check that the dimension didn't change\u001b[39;00m\n\u001b[1;32m      7\u001b[0m \u001b[38;5;28mprint\u001b[39m(\u001b[38;5;124mf\u001b[39m\u001b[38;5;124m\"\u001b[39m\u001b[38;5;132;01m{\u001b[39;00mdata\u001b[38;5;241m.\u001b[39mshape\u001b[38;5;132;01m}\u001b[39;00m\u001b[38;5;124m should be equal to \u001b[39m\u001b[38;5;132;01m{\u001b[39;00mnp_data\u001b[38;5;241m.\u001b[39mshape\u001b[38;5;132;01m}\u001b[39;00m\u001b[38;5;124m\"\u001b[39m)\n",
      "\u001b[0;31mNameError\u001b[0m: name 'data' is not defined"
     ]
    }
   ],
   "source": [
    "import numpy as np\n",
    "\n",
    "# Cast into numpy array\n",
    "np_data = np.array(data)\n",
    "\n",
    "# Check that the dimension didn't change\n",
    "print(f\"{data.shape} should be equal to {np_data.shape}\")"
   ]
  }
 ],
 "metadata": {
  "kernelspec": {
   "display_name": "nn",
   "language": "python",
   "name": "python3"
  },
  "language_info": {
   "codemirror_mode": {
    "name": "ipython",
    "version": 3
   },
   "file_extension": ".py",
   "mimetype": "text/x-python",
   "name": "python",
   "nbconvert_exporter": "python",
   "pygments_lexer": "ipython3",
   "version": "3.12.2"
  }
 },
 "nbformat": 4,
 "nbformat_minor": 2
}