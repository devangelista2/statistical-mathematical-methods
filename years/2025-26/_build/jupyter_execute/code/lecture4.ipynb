{
 "cells": [
  {
   "cell_type": "code",
   "execution_count": 1,
   "metadata": {},
   "outputs": [
    {
     "ename": "ModuleNotFoundError",
     "evalue": "No module named 'numpy'",
     "output_type": "error",
     "traceback": [
      "\u001b[31m---------------------------------------------------------------------------\u001b[39m",
      "\u001b[31mModuleNotFoundError\u001b[39m                       Traceback (most recent call last)",
      "\u001b[36mCell\u001b[39m\u001b[36m \u001b[39m\u001b[32mIn[1]\u001b[39m\u001b[32m, line 1\u001b[39m\n\u001b[32m----> \u001b[39m\u001b[32m1\u001b[39m \u001b[38;5;28;01mimport\u001b[39;00m\u001b[38;5;250m \u001b[39m\u001b[34;01mnumpy\u001b[39;00m\u001b[38;5;250m \u001b[39m\u001b[38;5;28;01mas\u001b[39;00m\u001b[38;5;250m \u001b[39m\u001b[34;01mnp\u001b[39;00m\n\u001b[32m      3\u001b[39m \u001b[38;5;28mprint\u001b[39m(\u001b[33m\"\u001b[39m\u001b[33mHello\u001b[39m\u001b[33m\"\u001b[39m)\n",
      "\u001b[31mModuleNotFoundError\u001b[39m: No module named 'numpy'"
     ]
    }
   ],
   "source": [
    "import numpy as np\n",
    "\n",
    "print(\"Hello\")"
   ]
  },
  {
   "cell_type": "markdown",
   "metadata": {},
   "source": [
    "In this code we printed out a \"Hello\" command"
   ]
  },
  {
   "cell_type": "markdown",
   "metadata": {},
   "source": [
    "Reply..."
   ]
  },
  {
   "cell_type": "code",
   "execution_count": 2,
   "metadata": {},
   "outputs": [
    {
     "ename": "ModuleNotFoundError",
     "evalue": "No module named 'numpy'",
     "output_type": "error",
     "traceback": [
      "\u001b[31m---------------------------------------------------------------------------\u001b[39m",
      "\u001b[31mModuleNotFoundError\u001b[39m                       Traceback (most recent call last)",
      "\u001b[36mCell\u001b[39m\u001b[36m \u001b[39m\u001b[32mIn[2]\u001b[39m\u001b[32m, line 2\u001b[39m\n\u001b[32m      1\u001b[39m \u001b[38;5;66;03m# Importing numpy\u001b[39;00m\n\u001b[32m----> \u001b[39m\u001b[32m2\u001b[39m \u001b[38;5;28;01mimport\u001b[39;00m\u001b[38;5;250m \u001b[39m\u001b[34;01mnumpy\u001b[39;00m\u001b[38;5;250m \u001b[39m\u001b[38;5;28;01mas\u001b[39;00m\u001b[38;5;250m \u001b[39m\u001b[34;01mnp\u001b[39;00m\n\u001b[32m      4\u001b[39m \u001b[38;5;66;03m# Consider an example matrix\u001b[39;00m\n\u001b[32m      5\u001b[39m A = np.array(\n\u001b[32m      6\u001b[39m     [\n\u001b[32m      7\u001b[39m         [-\u001b[32m1\u001b[39m, -\u001b[32m2\u001b[39m, \u001b[32m0\u001b[39m, \u001b[32m1\u001b[39m, -\u001b[32m2\u001b[39m, -\u001b[32m3\u001b[39m],\n\u001b[32m   (...)\u001b[39m\u001b[32m     17\u001b[39m     ]\n\u001b[32m     18\u001b[39m )\n",
      "\u001b[31mModuleNotFoundError\u001b[39m: No module named 'numpy'"
     ]
    }
   ],
   "source": [
    "# Importing numpy\n",
    "import numpy as np\n",
    "\n",
    "# Consider an example matrix\n",
    "A = np.array(\n",
    "    [\n",
    "        [-1, -2, 0, 1, -2, -3],\n",
    "        [-1, -2, -3, -2, 0, -3],\n",
    "        [-1, -3, 1, 3, 2, -4],\n",
    "        [2, 1, -1, 0, -2, 3],\n",
    "        [0, -3, -1, 2, -1, -3],\n",
    "        [1, -3, 2, 6, 0, -2],\n",
    "        [-3, 1, 0, -4, 2, -2],\n",
    "        [-2, 2, -2, -6, -2, 0],\n",
    "        [-3, -1, 2, 0, 2, -4],\n",
    "        [2, -2, 0, 4, -1, 0],\n",
    "    ]\n",
    ")\n",
    "\n",
    "# Measure the shape of A: which is the maximum rank?\n",
    "m, n = A.shape\n",
    "print(f\"The shape of A is: {(m, n)}.\")\n",
    "\n",
    "# Compute the SVD decomposition of A and check the shapes\n",
    "U, s, VT = np.linalg.svd(A, full_matrices=True)\n",
    "print(U.shape, s.shape, VT.shape)\n",
    "\n",
    "# Define the full matrix S\n",
    "S = np.zeros((m, n))\n",
    "S[:n, :n] = np.diag(s)"
   ]
  },
  {
   "cell_type": "code",
   "execution_count": 3,
   "metadata": {},
   "outputs": [
    {
     "ename": "NameError",
     "evalue": "name 'np' is not defined",
     "output_type": "error",
     "traceback": [
      "\u001b[31m---------------------------------------------------------------------------\u001b[39m",
      "\u001b[31mNameError\u001b[39m                                 Traceback (most recent call last)",
      "\u001b[36mCell\u001b[39m\u001b[36m \u001b[39m\u001b[32mIn[3]\u001b[39m\u001b[32m, line 2\u001b[39m\n\u001b[32m      1\u001b[39m \u001b[38;5;66;03m# Exercise: prove that U and VT are orthogonal matrices, i.e. U @ U^T = I and VT @ VT^T = I\u001b[39;00m\n\u001b[32m----> \u001b[39m\u001b[32m2\u001b[39m \u001b[38;5;28mprint\u001b[39m(\u001b[43mnp\u001b[49m.linalg.norm(U @ U.T - np.eye(m))) \u001b[38;5;66;03m# U @ U^T = I <-> U @ U.T - I = 0 <-> || U @ U.T - I || = 0\u001b[39;00m\n\u001b[32m      3\u001b[39m \u001b[38;5;28mprint\u001b[39m(np.linalg.norm(VT @ VT.T - np.eye(n))) \n",
      "\u001b[31mNameError\u001b[39m: name 'np' is not defined"
     ]
    }
   ],
   "source": [
    "# Exercise: prove that U and VT are orthogonal matrices, i.e. U @ U^T = I and VT @ VT^T = I\n",
    "print(np.linalg.norm(U @ U.T - np.eye(m))) # U @ U^T = I <-> U @ U.T - I = 0 <-> || U @ U.T - I || = 0\n",
    "print(np.linalg.norm(VT @ VT.T - np.eye(n))) "
   ]
  },
  {
   "cell_type": "code",
   "execution_count": 4,
   "metadata": {},
   "outputs": [
    {
     "ename": "NameError",
     "evalue": "name 's' is not defined",
     "output_type": "error",
     "traceback": [
      "\u001b[31m---------------------------------------------------------------------------\u001b[39m",
      "\u001b[31mNameError\u001b[39m                                 Traceback (most recent call last)",
      "\u001b[36mCell\u001b[39m\u001b[36m \u001b[39m\u001b[32mIn[4]\u001b[39m\u001b[32m, line 1\u001b[39m\n\u001b[32m----> \u001b[39m\u001b[32m1\u001b[39m \u001b[38;5;28mprint\u001b[39m(\u001b[43ms\u001b[49m)\n\u001b[32m      2\u001b[39m \u001b[38;5;66;03m# We expect is that rank(A) = 6 <- analytic rank\u001b[39;00m\n\u001b[32m      4\u001b[39m \u001b[38;5;28mprint\u001b[39m(np.linalg.matrix_rank(A))\n",
      "\u001b[31mNameError\u001b[39m: name 's' is not defined"
     ]
    }
   ],
   "source": [
    "print(s)\n",
    "# We expect is that rank(A) = 6 <- analytic rank\n",
    "\n",
    "print(np.linalg.matrix_rank(A))\n",
    "print(help(np.linalg.matrix_rank))"
   ]
  },
  {
   "cell_type": "code",
   "execution_count": 5,
   "metadata": {},
   "outputs": [
    {
     "ename": "ModuleNotFoundError",
     "evalue": "No module named 'skimage'",
     "output_type": "error",
     "traceback": [
      "\u001b[31m---------------------------------------------------------------------------\u001b[39m",
      "\u001b[31mModuleNotFoundError\u001b[39m                       Traceback (most recent call last)",
      "\u001b[36mCell\u001b[39m\u001b[36m \u001b[39m\u001b[32mIn[5]\u001b[39m\u001b[32m, line 1\u001b[39m\n\u001b[32m----> \u001b[39m\u001b[32m1\u001b[39m \u001b[38;5;28;01mimport\u001b[39;00m\u001b[38;5;250m \u001b[39m\u001b[34;01mskimage\u001b[39;00m\n\u001b[32m      3\u001b[39m \u001b[38;5;66;03m# Loading the \"cameraman\" image\u001b[39;00m\n\u001b[32m      4\u001b[39m x = skimage.data.camera()\n",
      "\u001b[31mModuleNotFoundError\u001b[39m: No module named 'skimage'"
     ]
    }
   ],
   "source": [
    "import skimage\n",
    "\n",
    "# Loading the \"cameraman\" image\n",
    "x = skimage.data.camera()\n",
    "m, n = x.shape\n",
    "\n",
    "# Printing its shape\n",
    "print(f\"Shape of the image: {x.shape}.\")\n",
    "\n",
    "# Visualize the image\n",
    "import matplotlib.pyplot as plt\n",
    "\n",
    "plt.imshow(x, cmap=\"gray\") # plt.plot(..)\n",
    "plt.axis(\"off\")\n",
    "# some specifications here\n",
    "plt.show()"
   ]
  },
  {
   "cell_type": "code",
   "execution_count": 6,
   "metadata": {},
   "outputs": [
    {
     "name": "stdout",
     "output_type": "stream",
     "text": [
      "The number of bytes required to memorize the image x is: 262144.\n"
     ]
    }
   ],
   "source": [
    "print(f\"The number of bytes required to memorize the image x is: {512 * 512}.\")"
   ]
  },
  {
   "cell_type": "code",
   "execution_count": 7,
   "metadata": {},
   "outputs": [
    {
     "ename": "NameError",
     "evalue": "name 'np' is not defined",
     "output_type": "error",
     "traceback": [
      "\u001b[31m---------------------------------------------------------------------------\u001b[39m",
      "\u001b[31mNameError\u001b[39m                                 Traceback (most recent call last)",
      "\u001b[36mCell\u001b[39m\u001b[36m \u001b[39m\u001b[32mIn[7]\u001b[39m\u001b[32m, line 2\u001b[39m\n\u001b[32m      1\u001b[39m \u001b[38;5;66;03m# Compute the SVD of x\u001b[39;00m\n\u001b[32m----> \u001b[39m\u001b[32m2\u001b[39m U, s, VT = \u001b[43mnp\u001b[49m.linalg.svd(x, full_matrices=\u001b[38;5;28;01mTrue\u001b[39;00m)\n\u001b[32m      4\u001b[39m \u001b[38;5;66;03m# Visualize the vector s\u001b[39;00m\n\u001b[32m      5\u001b[39m plt.plot(s)\n",
      "\u001b[31mNameError\u001b[39m: name 'np' is not defined"
     ]
    }
   ],
   "source": [
    "# Compute the SVD of x\n",
    "U, s, VT = np.linalg.svd(x, full_matrices=True)\n",
    "\n",
    "# Visualize the vector s\n",
    "plt.plot(s)\n",
    "plt.show()\n",
    "\n",
    "# Build the full diagonal matrix S\n",
    "S = np.zeros((m, n))\n",
    "S[:n, :n] = np.diag(s)\n",
    "\n",
    "# Define k\n",
    "k = 80\n",
    "\n",
    "# Truncate the SVD decomposition up to k\n",
    "Uk = U[:, :k]   # m x k\n",
    "Sk = S[:k, :k]  # k x k\n",
    "VTk = VT[:k, :] # k x n\n",
    "\n",
    "# Compute Xk\n",
    "Xk = Uk @ Sk @ VTk # k-rank approximation of X\n",
    "\n",
    "plt.imshow(Xk, cmap=\"gray\") # plt.plot(..)\n",
    "plt.axis(\"off\")\n",
    "# some specifications here\n",
    "plt.show()\n",
    "\n",
    "print(f\"The number of bytes required to save Xk is {k * (m + n + 1)}.\")\n",
    "print(Xk.shape)"
   ]
  },
  {
   "cell_type": "code",
   "execution_count": 8,
   "metadata": {},
   "outputs": [
    {
     "ename": "ModuleNotFoundError",
     "evalue": "No module named 'numpy'",
     "output_type": "error",
     "traceback": [
      "\u001b[31m---------------------------------------------------------------------------\u001b[39m",
      "\u001b[31mModuleNotFoundError\u001b[39m                       Traceback (most recent call last)",
      "\u001b[36mCell\u001b[39m\u001b[36m \u001b[39m\u001b[32mIn[8]\u001b[39m\u001b[32m, line 1\u001b[39m\n\u001b[32m----> \u001b[39m\u001b[32m1\u001b[39m \u001b[38;5;28;01mimport\u001b[39;00m\u001b[38;5;250m \u001b[39m\u001b[34;01mnumpy\u001b[39;00m\u001b[38;5;250m \u001b[39m\u001b[38;5;28;01mas\u001b[39;00m\u001b[38;5;250m \u001b[39m\u001b[34;01mnp\u001b[39;00m\n\u001b[32m      2\u001b[39m \u001b[38;5;28;01mimport\u001b[39;00m\u001b[38;5;250m \u001b[39m\u001b[34;01mpandas\u001b[39;00m\u001b[38;5;250m \u001b[39m\u001b[38;5;28;01mas\u001b[39;00m\u001b[38;5;250m \u001b[39m\u001b[34;01mpd\u001b[39;00m\n\u001b[32m      4\u001b[39m \u001b[38;5;66;03m# Load data into memory\u001b[39;00m\n",
      "\u001b[31mModuleNotFoundError\u001b[39m: No module named 'numpy'"
     ]
    }
   ],
   "source": [
    "import numpy as np\n",
    "import pandas as pd\n",
    "\n",
    "# Load data into memory\n",
    "data = pd.read_csv('./train.csv')\n",
    "print(data.shape)"
   ]
  },
  {
   "cell_type": "markdown",
   "metadata": {},
   "source": []
  },
  {
   "cell_type": "code",
   "execution_count": 9,
   "metadata": {},
   "outputs": [
    {
     "ename": "NameError",
     "evalue": "name 'np' is not defined",
     "output_type": "error",
     "traceback": [
      "\u001b[31m---------------------------------------------------------------------------\u001b[39m",
      "\u001b[31mNameError\u001b[39m                                 Traceback (most recent call last)",
      "\u001b[36mCell\u001b[39m\u001b[36m \u001b[39m\u001b[32mIn[9]\u001b[39m\u001b[32m, line 2\u001b[39m\n\u001b[32m      1\u001b[39m \u001b[38;5;66;03m# Convert data into a matrix\u001b[39;00m\n\u001b[32m----> \u001b[39m\u001b[32m2\u001b[39m data = \u001b[43mnp\u001b[49m.array(data)\n\u001b[32m      4\u001b[39m \u001b[38;5;66;03m# Split data into a matrix X and a vector Y where:\u001b[39;00m\n\u001b[32m      5\u001b[39m \u001b[38;5;66;03m#\u001b[39;00m\n\u001b[32m      6\u001b[39m \u001b[38;5;66;03m# X is dimension (42000, 784)\u001b[39;00m\n\u001b[32m      7\u001b[39m \u001b[38;5;66;03m# Y is dimension (42000, )\u001b[39;00m\n\u001b[32m      8\u001b[39m \u001b[38;5;66;03m# Y is the first column of data, while X is the rest\u001b[39;00m\n\u001b[32m      9\u001b[39m X = data[:, \u001b[32m1\u001b[39m:]\n",
      "\u001b[31mNameError\u001b[39m: name 'np' is not defined"
     ]
    }
   ],
   "source": [
    "# Convert data into a matrix\n",
    "data = np.array(data)\n",
    "\n",
    "# Split data into a matrix X and a vector Y where:\n",
    "#\n",
    "# X is dimension (42000, 784)\n",
    "# Y is dimension (42000, )\n",
    "# Y is the first column of data, while X is the rest\n",
    "X = data[:, 1:]\n",
    "X = X.T\n",
    "\n",
    "Y = data[:, 0]\n",
    "\n",
    "print(X.shape, Y.shape)\n",
    "\n",
    "d, N = X.shape"
   ]
  },
  {
   "cell_type": "code",
   "execution_count": 10,
   "metadata": {},
   "outputs": [
    {
     "ename": "NameError",
     "evalue": "name 'X' is not defined",
     "output_type": "error",
     "traceback": [
      "\u001b[31m---------------------------------------------------------------------------\u001b[39m",
      "\u001b[31mNameError\u001b[39m                                 Traceback (most recent call last)",
      "\u001b[36mCell\u001b[39m\u001b[36m \u001b[39m\u001b[32mIn[10]\u001b[39m\u001b[32m, line 2\u001b[39m\n\u001b[32m      1\u001b[39m \u001b[38;5;66;03m# Extract a single element from X\u001b[39;00m\n\u001b[32m----> \u001b[39m\u001b[32m2\u001b[39m x = \u001b[43mX\u001b[49m[:, \u001b[32m12\u001b[39m]\n\u001b[32m      3\u001b[39m y = Y[\u001b[32m12\u001b[39m]\n\u001b[32m      5\u001b[39m \u001b[38;5;66;03m# Reshape it into the original 28 x 28 image\u001b[39;00m\n",
      "\u001b[31mNameError\u001b[39m: name 'X' is not defined"
     ]
    }
   ],
   "source": [
    "# Extract a single element from X\n",
    "x = X[:, 12]\n",
    "y = Y[12]\n",
    "\n",
    "# Reshape it into the original 28 x 28 image\n",
    "x = np.reshape(x, (28, 28))\n",
    "print(x.shape)\n",
    "\n",
    "# Visualize it\n",
    "plt.imshow(x, cmap=\"gray\")\n",
    "plt.axis('off')\n",
    "plt.show()\n",
    "\n",
    "print(y)"
   ]
  },
  {
   "cell_type": "code",
   "execution_count": 11,
   "metadata": {},
   "outputs": [
    {
     "ename": "NameError",
     "evalue": "name 'X' is not defined",
     "output_type": "error",
     "traceback": [
      "\u001b[31m---------------------------------------------------------------------------\u001b[39m",
      "\u001b[31mNameError\u001b[39m                                 Traceback (most recent call last)",
      "\u001b[36mCell\u001b[39m\u001b[36m \u001b[39m\u001b[32mIn[11]\u001b[39m\u001b[32m, line 23\u001b[39m\n\u001b[32m     20\u001b[39m     \u001b[38;5;28;01mreturn\u001b[39;00m (Xtrain, Ytrain), (Xtest, Ytest)\n\u001b[32m     22\u001b[39m \u001b[38;5;66;03m# Test it\u001b[39;00m\n\u001b[32m---> \u001b[39m\u001b[32m23\u001b[39m (Xtrain, Ytrain), (Xtest, Ytest) = split_data(\u001b[43mX\u001b[49m, Y, \u001b[32m30_000\u001b[39m)\n\u001b[32m     25\u001b[39m \u001b[38;5;28mprint\u001b[39m(Xtrain.shape, Xtest.shape)\n",
      "\u001b[31mNameError\u001b[39m: name 'X' is not defined"
     ]
    }
   ],
   "source": [
    "# sklearn -> (split, PCA, ..) DON'T USE IT\n",
    "def split_data(X, Y, Ntrain):\n",
    "    d, N = X.shape\n",
    "\n",
    "    # Randomize\n",
    "    idx = np.arange(N)\n",
    "    np.random.shuffle(idx)\n",
    "\n",
    "    train_idx = idx[:Ntrain]\n",
    "    test_idx = idx[Ntrain:]\n",
    "\n",
    "    # Extract the training set\n",
    "    Xtrain = X[:, train_idx]\n",
    "    Ytrain = Y[train_idx]\n",
    "    \n",
    "    # Extract the test set\n",
    "    Xtest = X[:, test_idx]\n",
    "    Ytest = Y[test_idx]\n",
    "\n",
    "    return (Xtrain, Ytrain), (Xtest, Ytest)\n",
    "\n",
    "# Test it\n",
    "(Xtrain, Ytrain), (Xtest, Ytest) = split_data(X, Y, 30_000)\n",
    "\n",
    "print(Xtrain.shape, Xtest.shape)"
   ]
  },
  {
   "cell_type": "code",
   "execution_count": 12,
   "metadata": {},
   "outputs": [
    {
     "ename": "NameError",
     "evalue": "name 'np' is not defined",
     "output_type": "error",
     "traceback": [
      "\u001b[31m---------------------------------------------------------------------------\u001b[39m",
      "\u001b[31mNameError\u001b[39m                                 Traceback (most recent call last)",
      "\u001b[36mCell\u001b[39m\u001b[36m \u001b[39m\u001b[32mIn[12]\u001b[39m\u001b[32m, line 2\u001b[39m\n\u001b[32m      1\u001b[39m \u001b[38;5;66;03m# First set: Center the data\u001b[39;00m\n\u001b[32m----> \u001b[39m\u001b[32m2\u001b[39m cX = \u001b[43mnp\u001b[49m.mean(Xtrain, axis=\u001b[32m1\u001b[39m)\n\u001b[32m      4\u001b[39m \u001b[38;5;66;03m# Make cX a column vector (instead of an abstract vector)\u001b[39;00m\n\u001b[32m      5\u001b[39m cX = np.reshape(cX, (\u001b[32m784\u001b[39m, \u001b[32m1\u001b[39m))\n",
      "\u001b[31mNameError\u001b[39m: name 'np' is not defined"
     ]
    }
   ],
   "source": [
    "# First set: Center the data\n",
    "cX = np.mean(Xtrain, axis=1)\n",
    "\n",
    "# Make cX a column vector (instead of an abstract vector)\n",
    "cX = np.reshape(cX, (784, 1))\n",
    "\n",
    "plt.imshow(np.reshape(cX, (28, 28)), cmap='gray')\n",
    "plt.show()\n",
    "\n",
    "# Compute Xc = X - cX\n",
    "Xc = Xtrain - cX\n",
    "\n",
    "# Step 2: Compute the SVD\n",
    "U, s, VT = np.linalg.svd(Xc, full_matrices=False)\n",
    "print(U.shape, s.shape, VT.shape)\n",
    "\n",
    "# Step3 : comput the truncated version of SVD\n",
    "k = 2\n",
    " \n",
    "Uk = U[:, :k]\n",
    "P = Uk.T\n",
    " \n",
    "Z = P @ Xtest\n",
    "\n",
    "mine = (Ytest == 1) | (Ytest == 4)\n",
    " \n",
    "plt.scatter(Z[0, mine], Z[1, mine], c=Ytest[mine], label={1:\"1\", 4:\"4\"})\n",
    "plt.legend()\n",
    "plt.show()"
   ]
  }
 ],
 "metadata": {
  "kernelspec": {
   "display_name": "nn",
   "language": "python",
   "name": "python3"
  },
  "language_info": {
   "codemirror_mode": {
    "name": "ipython",
    "version": 3
   },
   "file_extension": ".py",
   "mimetype": "text/x-python",
   "name": "python",
   "nbconvert_exporter": "python",
   "pygments_lexer": "ipython3",
   "version": "3.11.13"
  }
 },
 "nbformat": 4,
 "nbformat_minor": 2
}