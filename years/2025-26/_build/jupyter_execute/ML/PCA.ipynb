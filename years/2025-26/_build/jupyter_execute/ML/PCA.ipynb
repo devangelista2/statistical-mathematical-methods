{
 "cells": [
  {
   "cell_type": "markdown",
   "metadata": {},
   "source": [
    "# Dimensionality Reduction with PCA\n",
    "\n",
    "## Dimensionality Reduction\n",
    "While working with data, it is common to have access to very high-dimensional unstructured informations (e.g. images, sounds, ...). To work with them, it is necessary to find a way to project them into a low-dimensional space where data which is semantically similar is close. This approach is called **dimensionality reduction**.\n",
    "\n",
    "For example, assume our data can be stored in an $d \\times N$ array,\n",
    "\n",
    "$$\n",
    "    X = [ x^1 x^2 \\dots x^N ] \\in \\mathbb{R}^{d \\times N}\n",
    "$$\n",
    "\n",
    "where each datapoint $x^j \\in \\mathbb{R}^d$. The idea of dimensionality reduction techniques in ML is to find a projector operator $P: \\mathbb{R}^d \\to \\mathbb{R}^k$, with $k \\ll d$, such that in the projected space $P(x)$, images semantically similar are close together. If the points in a projected space forms isolated popoulations such that _inside_ of each popoulation the points are close, while the distance _between_ popoulations is large, we call them **clusters**. A clusering algorithm is an algorithm which is able to find clusters from high-dimensional data."
   ]
  },
  {
   "cell_type": "markdown",
   "metadata": {},
   "source": [
    "## Principal Component Analysis (PCA)\n",
    "Principal Componenti Analyisis (PCA) is probabily the simplest yet effective technique to perform dimensionality reduction and clustering. It is an unsupervised algorithm, thus it does not require any label.\n",
    "\n",
    "The idea is the following: consider a dataset $X \\in \\mathbb{R}^{d \\times N}$ of high-dimensional data and assume we want to project it into a low-dimensional space $\\mathbb{R}^k$. Define:\n",
    "\n",
    "$$\n",
    "    Z = [z^1 z^2 \\dots z^N] \\in \\mathbb{R}^{k \\times N}\n",
    "$$\n",
    "\n",
    "the projected version of $X$. We want to find a matrix $P \\in \\mathbb{R}^{k \\times d}$ such that $Z = PX$, with the constraint that in the projected space we want to keep as much information as possible from the original data $X$. \n",
    "\n",
    "You already studied that, when you want to project a matrix by keeping informations, a good idea is to use the Singular Value Decomposition (SVD) of it and, in particular, the Truncated SVD (TSVD). Let $X \\in \\mathbb{R}^{d \\times N}$, then\n",
    "\n",
    "$$\n",
    "    X = U \\Sigma V^T\n",
    "$$\n",
    "\n",
    "is the SVD of $X$, where $U \\in \\mathbb{R}^{d \\times d}$, $V \\in \\mathbb{R}^{N \\times N}$ are orthogonal matrices ($U^T U = U U^T = I$ and $V V^T = V^T V = I$), while $\\Sigma \\in \\mathbb{R}^{d \\times N}$ is a diagonal matrix whose diagonal elements $\\sigma_i$ are the singular values of $X$, in decreasing order ($\\sigma_1 \\geq \\sigma_2 \\geq \\dots \\geq \\sigma_d$). Since the singular values represents the _quantity of informations_ contained in the corresponding singular vectors, keeping the first $k$ singular values and vectors can be the solution to our projection problem. Indeed, given $k < d$, we define the Truncated SVD of $X$ as\n",
    "\n",
    "$$\n",
    "    X_k = U_k \\Sigma_k V^T_k\n",
    "$$\n",
    "\n",
    "where $U_k \\in \\mathbb{R}^{d \\times k}$, $\\Sigma_k \\in \\mathbb{R}^{k \\times k}$, and $V_k \\in \\mathbb{R}^{k \\times N}$. \n",
    "\n",
    "The PCA use this idea and defines the projection matrix as $P = U_k^T$, and consequently,\n",
    "\n",
    "$$\n",
    "    Z = U_k^T X\n",
    "$$\n",
    "\n",
    "is the projected space. Here, the columns of $U_k$ are called **feature vectors**, while the columns of $Z$ are the **principal components** of $X$.\n",
    "\n",
    "### Implementation\n",
    "To implement PCA, we first need to _center_ the data. This can be done by defining its centroid.\n",
    "\n",
    "> Given a set $X = [x^1 x^2 \\dots x^N]$, its **centroid** is defined as $ c(X) = \\frac{1}{N} \\sum_{i=1}^N x^i$.\n",
    "\n",
    "Thus, the implementation of PCA is as follows:\n",
    "\n",
    "* Consider the dataset $X$;\n",
    "* Compute the centered version of $X$ as $X_c = X - c(X)$, where the subtraction between matrix and vector is executed _column-by-column_;\n",
    "* Compute the SVD of $X_c$, $X_c = U\\Sigma V^T$;\n",
    "* Given $k < n$, compute the Truncated SVD of $X_c$: $X_{c, k} = U_k \\Sigma_k V_k^T$;\n",
    "* Compute the projected dataset $Z_k = U_k^T X_c$;"
   ]
  },
  {
   "cell_type": "markdown",
   "metadata": {},
   "source": [
    "### Python example\n",
    "In the following, we consider as an example the MNIST dataset, which can be download from Kaggle ([kaggle.com/datasets/animatronbot/mnist-digit-recognizer](https://www.kaggle.com/datasets/animatronbot/mnist-digit-recognizer)). For simplicity, I renamed it as `data.csv` and I placed it a folder named `data` into the current project folder."
   ]
  },
  {
   "cell_type": "code",
   "execution_count": 1,
   "metadata": {},
   "outputs": [
    {
     "ename": "ModuleNotFoundError",
     "evalue": "No module named 'numpy'",
     "output_type": "error",
     "traceback": [
      "\u001b[31m---------------------------------------------------------------------------\u001b[39m",
      "\u001b[31mModuleNotFoundError\u001b[39m                       Traceback (most recent call last)",
      "\u001b[36mCell\u001b[39m\u001b[36m \u001b[39m\u001b[32mIn[1]\u001b[39m\u001b[32m, line 1\u001b[39m\n\u001b[32m----> \u001b[39m\u001b[32m1\u001b[39m \u001b[38;5;28;01mimport\u001b[39;00m\u001b[38;5;250m \u001b[39m\u001b[34;01mnumpy\u001b[39;00m\u001b[38;5;250m \u001b[39m\u001b[38;5;28;01mas\u001b[39;00m\u001b[38;5;250m \u001b[39m\u001b[34;01mnp\u001b[39;00m\n\u001b[32m      2\u001b[39m \u001b[38;5;28;01mimport\u001b[39;00m\u001b[38;5;250m \u001b[39m\u001b[34;01mpandas\u001b[39;00m\u001b[38;5;250m \u001b[39m\u001b[38;5;28;01mas\u001b[39;00m\u001b[38;5;250m \u001b[39m\u001b[34;01mpd\u001b[39;00m\n\u001b[32m      4\u001b[39m \u001b[38;5;66;03m# Load data into memory\u001b[39;00m\n",
      "\u001b[31mModuleNotFoundError\u001b[39m: No module named 'numpy'"
     ]
    }
   ],
   "source": [
    "import numpy as np\n",
    "import pandas as pd\n",
    "\n",
    "# Load data into memory\n",
    "data = pd.read_csv('./data/data.csv')"
   ]
  },
  {
   "cell_type": "markdown",
   "metadata": {},
   "source": [
    "After that, it is important to inspect the data, i.e. to look at its structure and understand how it is distributed. This can be done either by reading at the documentation of the website where the data has been downloaded or by using the `pandas` method `.head()`."
   ]
  },
  {
   "cell_type": "code",
   "execution_count": 2,
   "metadata": {},
   "outputs": [
    {
     "ename": "NameError",
     "evalue": "name 'data' is not defined",
     "output_type": "error",
     "traceback": [
      "\u001b[31m---------------------------------------------------------------------------\u001b[39m",
      "\u001b[31mNameError\u001b[39m                                 Traceback (most recent call last)",
      "\u001b[36mCell\u001b[39m\u001b[36m \u001b[39m\u001b[32mIn[2]\u001b[39m\u001b[32m, line 2\u001b[39m\n\u001b[32m      1\u001b[39m \u001b[38;5;66;03m# Inspect the data\u001b[39;00m\n\u001b[32m----> \u001b[39m\u001b[32m2\u001b[39m \u001b[38;5;28mprint\u001b[39m(\u001b[33mf\u001b[39m\u001b[33m\"\u001b[39m\u001b[33mShape of the data: \u001b[39m\u001b[38;5;132;01m{\u001b[39;00m\u001b[43mdata\u001b[49m.shape\u001b[38;5;132;01m}\u001b[39;00m\u001b[33m\"\u001b[39m)\n\u001b[32m      3\u001b[39m \u001b[38;5;28mprint\u001b[39m(\u001b[33m\"\u001b[39m\u001b[33m\"\u001b[39m)\n\u001b[32m      4\u001b[39m \u001b[38;5;28mprint\u001b[39m(data.head())\n",
      "\u001b[31mNameError\u001b[39m: name 'data' is not defined"
     ]
    }
   ],
   "source": [
    "# Inspect the data\n",
    "print(f\"Shape of the data: {data.shape}\")\n",
    "print(\"\")\n",
    "print(data.head())"
   ]
  },
  {
   "cell_type": "markdown",
   "metadata": {},
   "source": [
    "which prints out all the columns of `data` and the first 5 rows of each column. With this command, we realize that our dataset is a $42000 \\times 785$ frame, where the columns from the second to the last are the pixels of an image representing an handwritten digit, while the first column is the _target_, i.e. the integer describing the represented digit. "
   ]
  },
  {
   "cell_type": "code",
   "execution_count": 3,
   "metadata": {},
   "outputs": [
    {
     "ename": "NameError",
     "evalue": "name 'np' is not defined",
     "output_type": "error",
     "traceback": [
      "\u001b[31m---------------------------------------------------------------------------\u001b[39m",
      "\u001b[31mNameError\u001b[39m                                 Traceback (most recent call last)",
      "\u001b[36mCell\u001b[39m\u001b[36m \u001b[39m\u001b[32mIn[3]\u001b[39m\u001b[32m, line 2\u001b[39m\n\u001b[32m      1\u001b[39m \u001b[38;5;66;03m# Convert data into a matrix\u001b[39;00m\n\u001b[32m----> \u001b[39m\u001b[32m2\u001b[39m data = \u001b[43mnp\u001b[49m.array(data)\n\u001b[32m      4\u001b[39m \u001b[38;5;66;03m# Split data into a matrix X and a vector Y where:\u001b[39;00m\n\u001b[32m      5\u001b[39m \u001b[38;5;66;03m#\u001b[39;00m\n\u001b[32m      6\u001b[39m \u001b[38;5;66;03m# X is dimension (42000, 784)\u001b[39;00m\n\u001b[32m      7\u001b[39m \u001b[38;5;66;03m# Y is dimension (42000, )\u001b[39;00m\n\u001b[32m      8\u001b[39m \u001b[38;5;66;03m# Y is the first column of data, while X is the rest\u001b[39;00m\n\u001b[32m      9\u001b[39m X = data[:, \u001b[32m1\u001b[39m:]\n",
      "\u001b[31mNameError\u001b[39m: name 'np' is not defined"
     ]
    }
   ],
   "source": [
    "# Convert data into a matrix\n",
    "data = np.array(data)\n",
    "\n",
    "# Split data into a matrix X and a vector Y where:\n",
    "#\n",
    "# X is dimension (42000, 784)\n",
    "# Y is dimension (42000, )\n",
    "# Y is the first column of data, while X is the rest\n",
    "X = data[:, 1:]\n",
    "X = X.T\n",
    "\n",
    "Y = data[:, 0]\n",
    "\n",
    "print(X.shape, Y.shape)\n",
    "\n",
    "d, N = X.shape"
   ]
  },
  {
   "cell_type": "markdown",
   "metadata": {},
   "source": [
    "Here, we convert the dataframe into a matrix with `numpy`, and then we split the input matrix $X$ and the corresponding target vector $Y$. Finally, we note that $X$ is an $N \\times d$ matrix, where $N = 42000$ and $d = 784$. Since in our notations the shape of $X$ **should** be $d \\times N$, we have to transpose it. "
   ]
  },
  {
   "cell_type": "markdown",
   "metadata": {},
   "source": [
    "### Visualizing the digits\n",
    "We already said that $X$ is a dataset of images representing handwritten digits. We can clearly visualize some of them. In the documentation, we can read that each datapoint is a $28 \\times 28$ grey-scale image, which has been flattened. Flattening is the operation of taking a 2-dimensional array (a matrix) and converting it to a 1-dimensional array, by concatenating the rows of it. This can be implemented in `numpy` with the function `a.flatten()`, where `a` is a 2-dimensional numpy array.\n",
    "\n",
    "Since we know that the dimension of each image was $28 \\times 28$ before flattening, we can invert this procedure by **reshaping** them. After that, we can simply visualize it with the function `plt.imshow()` from `matplotlib`, by setting the `cmap` to `'gray'` since the images are grey-scale."
   ]
  },
  {
   "cell_type": "code",
   "execution_count": 4,
   "metadata": {},
   "outputs": [
    {
     "ename": "ModuleNotFoundError",
     "evalue": "No module named 'matplotlib'",
     "output_type": "error",
     "traceback": [
      "\u001b[31m---------------------------------------------------------------------------\u001b[39m",
      "\u001b[31mModuleNotFoundError\u001b[39m                       Traceback (most recent call last)",
      "\u001b[36mCell\u001b[39m\u001b[36m \u001b[39m\u001b[32mIn[4]\u001b[39m\u001b[32m, line 1\u001b[39m\n\u001b[32m----> \u001b[39m\u001b[32m1\u001b[39m \u001b[38;5;28;01mimport\u001b[39;00m\u001b[38;5;250m \u001b[39m\u001b[34;01mmatplotlib\u001b[39;00m\u001b[34;01m.\u001b[39;00m\u001b[34;01mpyplot\u001b[39;00m\u001b[38;5;250m \u001b[39m\u001b[38;5;28;01mas\u001b[39;00m\u001b[38;5;250m \u001b[39m\u001b[34;01mplt\u001b[39;00m\n\u001b[32m      3\u001b[39m \u001b[38;5;28;01mdef\u001b[39;00m\u001b[38;5;250m \u001b[39m\u001b[34mvisualize\u001b[39m(X, idx):\n\u001b[32m      4\u001b[39m     \u001b[38;5;66;03m# Visualize the image of index 'idx' from the dataset 'X'\u001b[39;00m\n\u001b[32m      5\u001b[39m \n\u001b[32m      6\u001b[39m     \u001b[38;5;66;03m# Load an image in memory\u001b[39;00m\n\u001b[32m      7\u001b[39m     img = X[:, idx]\n",
      "\u001b[31mModuleNotFoundError\u001b[39m: No module named 'matplotlib'"
     ]
    }
   ],
   "source": [
    "import matplotlib.pyplot as plt\n",
    "\n",
    "def visualize(X, idx):\n",
    "    # Visualize the image of index 'idx' from the dataset 'X'\n",
    "\n",
    "    # Load an image in memory\n",
    "    img = X[:, idx]\n",
    "    \n",
    "    # Reshape it\n",
    "    img = np.reshape(img, (28, 28))\n",
    "\n",
    "    # Visualize\n",
    "    plt.imshow(img, cmap='gray')\n",
    "    plt.show()\n",
    "\n",
    "# Visualize image number 10 and the corresponding digit.\n",
    "idx = 10\n",
    "visualize(X, idx)\n",
    "print(f\"The associated digit is: {Y[idx]}\")"
   ]
  },
  {
   "cell_type": "markdown",
   "metadata": {},
   "source": [
    "### Splitting the dataset\n",
    "Before implementing the algorithm performing PCA, you are required to split the dataset into a training set and a test set. Remember that to correctly split $X$, it has to be random. "
   ]
  },
  {
   "cell_type": "code",
   "execution_count": 5,
   "metadata": {},
   "outputs": [
    {
     "ename": "NameError",
     "evalue": "name 'X' is not defined",
     "output_type": "error",
     "traceback": [
      "\u001b[31m---------------------------------------------------------------------------\u001b[39m",
      "\u001b[31mNameError\u001b[39m                                 Traceback (most recent call last)",
      "\u001b[36mCell\u001b[39m\u001b[36m \u001b[39m\u001b[32mIn[5]\u001b[39m\u001b[32m, line 19\u001b[39m\n\u001b[32m     16\u001b[39m     \u001b[38;5;28;01mreturn\u001b[39;00m (X_train, Y_train), (X_test, Y_test)\n\u001b[32m     18\u001b[39m \u001b[38;5;66;03m# Test it\u001b[39;00m\n\u001b[32m---> \u001b[39m\u001b[32m19\u001b[39m (X_train, Y_train), (X_test, Y_test) = split_data(\u001b[43mX\u001b[49m, Y, \u001b[32m30_000\u001b[39m)\n\u001b[32m     21\u001b[39m \u001b[38;5;28mprint\u001b[39m(X_train.shape, X_test.shape)\n",
      "\u001b[31mNameError\u001b[39m: name 'X' is not defined"
     ]
    }
   ],
   "source": [
    "def split_data(X, Y, N_train):\n",
    "    d, N = X.shape\n",
    "\n",
    "    idx = np.arange(N)\n",
    "    np.random.shuffle(idx)\n",
    "\n",
    "    train_idx = idx[:N_train]\n",
    "    test_idx = idx[N_train:]\n",
    "\n",
    "    X_train = X[:, train_idx]\n",
    "    Y_train = Y[train_idx]\n",
    "    \n",
    "    X_test = X[:, test_idx]\n",
    "    Y_test = Y[test_idx]\n",
    "\n",
    "    return (X_train, Y_train), (X_test, Y_test)\n",
    "\n",
    "# Test it\n",
    "(X_train, Y_train), (X_test, Y_test) = split_data(X, Y, 30_000)\n",
    "\n",
    "print(X_train.shape, X_test.shape)"
   ]
  },
  {
   "cell_type": "markdown",
   "metadata": {},
   "source": [
    "Now the dataset $(X, Y)$ is divided into the train and test components, and we can implement the PCA algorithm on $X_{train}$. Remember to not access $X_{test}$ during training.\n",
    "\n"
   ]
  },
  {
   "cell_type": "code",
   "execution_count": 6,
   "metadata": {},
   "outputs": [
    {
     "ename": "NameError",
     "evalue": "name 'np' is not defined",
     "output_type": "error",
     "traceback": [
      "\u001b[31m---------------------------------------------------------------------------\u001b[39m",
      "\u001b[31mNameError\u001b[39m                                 Traceback (most recent call last)",
      "\u001b[36mCell\u001b[39m\u001b[36m \u001b[39m\u001b[32mIn[6]\u001b[39m\u001b[32m, line 2\u001b[39m\n\u001b[32m      1\u001b[39m \u001b[38;5;66;03m# Compute centroid\u001b[39;00m\n\u001b[32m----> \u001b[39m\u001b[32m2\u001b[39m cX = \u001b[43mnp\u001b[49m.mean(X, axis=\u001b[32m1\u001b[39m)\n\u001b[32m      4\u001b[39m \u001b[38;5;66;03m# Make it a column vector\u001b[39;00m\n\u001b[32m      5\u001b[39m cX = np.reshape(cX, (d, \u001b[32m1\u001b[39m))\n",
      "\u001b[31mNameError\u001b[39m: name 'np' is not defined"
     ]
    }
   ],
   "source": [
    "# Compute centroid\n",
    "cX = np.mean(X, axis=1)\n",
    "\n",
    "# Make it a column vector\n",
    "cX = np.reshape(cX, (d, 1))\n",
    "print(cX.shape)\n",
    "\n",
    "# Center the data\n",
    "Xc = X - cX\n",
    "\n",
    "# Compute SVD decomposition\n",
    "U, s, VT = np.linalg.svd(Xc, full_matrices=False)\n",
    "\n",
    "# Given k, compute reduced SVD\n",
    "k = 2\n",
    "Uk = U[:, :k]\n",
    "\n",
    "# Define projection matrix\n",
    "P = Uk.T\n",
    "\n",
    "# Project X_train -> Z_train\n",
    "Z_train = P @ X_train\n",
    "print(Z_train.shape)"
   ]
  },
  {
   "cell_type": "markdown",
   "metadata": {},
   "source": [
    "```{warning}\n",
    "When the full SVD decomposition is not required (as it is the case for PCA), one can compute the (reduced) SVD decomposition of a matrix $X$ as `np.linalg.svd(X, full_matrices=False)`, to save computation time.\n",
    "```"
   ]
  },
  {
   "cell_type": "markdown",
   "metadata": {},
   "source": [
    "### Visualizing clusters\n",
    "When $k=2$, it is possible to visualize clusters in Python. In particular, we want to plot the datapoints, with the color of the corresponding class, to check how well the clustering algorithm performed in 2-dimensions. This can be done by the `matplotlib` function `plt.scatter`. In particular, if $Z_{train} = [z^1 z^2 \\dots z^N] \\in \\mathbb{R}^{2 \\times N}$ is the projected dataset and $Y_{train} \\in \\mathbb{R}^N$ is the vector of the corresponding classes, then the $Z_{train}$ can be visualized as:"
   ]
  },
  {
   "cell_type": "code",
   "execution_count": 7,
   "metadata": {},
   "outputs": [
    {
     "ename": "NameError",
     "evalue": "name 'plt' is not defined",
     "output_type": "error",
     "traceback": [
      "\u001b[31m---------------------------------------------------------------------------\u001b[39m",
      "\u001b[31mNameError\u001b[39m                                 Traceback (most recent call last)",
      "\u001b[36mCell\u001b[39m\u001b[36m \u001b[39m\u001b[32mIn[7]\u001b[39m\u001b[32m, line 2\u001b[39m\n\u001b[32m      1\u001b[39m \u001b[38;5;66;03m# Visualize the clusters\u001b[39;00m\n\u001b[32m----> \u001b[39m\u001b[32m2\u001b[39m ax = \u001b[43mplt\u001b[49m.scatter(Z_train[\u001b[32m0\u001b[39m, :], Z_train[\u001b[32m1\u001b[39m, :], c=Y_train)\n\u001b[32m      3\u001b[39m plt.legend(*ax.legend_elements(), title=\u001b[33m\"\u001b[39m\u001b[33mDigit\u001b[39m\u001b[33m\"\u001b[39m) \u001b[38;5;66;03m# Add to the legend the list of digits\u001b[39;00m\n\u001b[32m      4\u001b[39m plt.xlabel(\u001b[33mr\u001b[39m\u001b[33m\"\u001b[39m\u001b[33m$z_1$\u001b[39m\u001b[33m\"\u001b[39m)\n",
      "\u001b[31mNameError\u001b[39m: name 'plt' is not defined"
     ]
    }
   ],
   "source": [
    "# Visualize the clusters\n",
    "ax = plt.scatter(Z_train[0, :], Z_train[1, :], c=Y_train)\n",
    "plt.legend(*ax.legend_elements(), title=\"Digit\") # Add to the legend the list of digits\n",
    "plt.xlabel(r\"$z_1$\")\n",
    "plt.ylabel(r\"$z_2$\")\n",
    "plt.title(\"PCA projection of MNIST digits 0-9\")\n",
    "plt.grid()\n",
    "plt.show()"
   ]
  },
  {
   "cell_type": "markdown",
   "metadata": {},
   "source": [
    "Due to the high number of represented digits, a few of them appear to be overlapped. This is due to $k=2$ being too low, and PCA being too simple to be able to capture the complexity of such a large number of digits.\n",
    "\n",
    "However, a few digits, such as numbers 0 and 1, appear to be well-separated, showing that the algorithm is performing well."
   ]
  },
  {
   "cell_type": "markdown",
   "metadata": {},
   "source": [
    "### Filtering digits\n",
    "To simplify the dimensionality reduction task provided by PCA, we can consider filtering out just a few digits from MNIST dataset. This can be simply done by defining a boolean `ndarray` whose value in position $i$ is `True` if and only if the digit in the corresponding index represents one of the selected digit.\n",
    "\n",
    "In the following, we show how this can be implemented for the digits $3$ and $4$."
   ]
  },
  {
   "cell_type": "code",
   "execution_count": 8,
   "metadata": {},
   "outputs": [
    {
     "ename": "NameError",
     "evalue": "name 'Y' is not defined",
     "output_type": "error",
     "traceback": [
      "\u001b[31m---------------------------------------------------------------------------\u001b[39m",
      "\u001b[31mNameError\u001b[39m                                 Traceback (most recent call last)",
      "\u001b[36mCell\u001b[39m\u001b[36m \u001b[39m\u001b[32mIn[8]\u001b[39m\u001b[32m, line 2\u001b[39m\n\u001b[32m      1\u001b[39m \u001b[38;5;66;03m# Define the boolean array to filter out digits\u001b[39;00m\n\u001b[32m----> \u001b[39m\u001b[32m2\u001b[39m filter_3or4 = (\u001b[43mY\u001b[49m==\u001b[32m3\u001b[39m) | (Y==\u001b[32m4\u001b[39m)\n\u001b[32m      4\u001b[39m \u001b[38;5;66;03m# Define the filtered data\u001b[39;00m\n\u001b[32m      5\u001b[39m X_3or4 = X[:, filter_3or4]\n",
      "\u001b[31mNameError\u001b[39m: name 'Y' is not defined"
     ]
    }
   ],
   "source": [
    "# Define the boolean array to filter out digits\n",
    "filter_3or4 = (Y==3) | (Y==4)\n",
    "\n",
    "# Define the filtered data\n",
    "X_3or4 = X[:, filter_3or4]\n",
    "Y_3or4 = Y[filter_3or4]"
   ]
  },
  {
   "cell_type": "markdown",
   "metadata": {},
   "source": [
    "> **Exercise:** Repeat the PCA analysis for $k=2$ on the filtered dataset. Remember the `train_test_split()`."
   ]
  }
 ],
 "metadata": {
  "kernelspec": {
   "display_name": "teaching",
   "language": "python",
   "name": "python3"
  },
  "language_info": {
   "codemirror_mode": {
    "name": "ipython",
    "version": 3
   },
   "file_extension": ".py",
   "mimetype": "text/x-python",
   "name": "python",
   "nbconvert_exporter": "python",
   "pygments_lexer": "ipython3",
   "version": "3.11.13"
  }
 },
 "nbformat": 4,
 "nbformat_minor": 2
}