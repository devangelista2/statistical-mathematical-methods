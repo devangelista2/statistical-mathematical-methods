{
 "cells": [
  {
   "cell_type": "code",
   "execution_count": 1,
   "metadata": {},
   "outputs": [
    {
     "ename": "ModuleNotFoundError",
     "evalue": "No module named 'numpy'",
     "output_type": "error",
     "traceback": [
      "\u001b[31m---------------------------------------------------------------------------\u001b[39m",
      "\u001b[31mModuleNotFoundError\u001b[39m                       Traceback (most recent call last)",
      "\u001b[36mCell\u001b[39m\u001b[36m \u001b[39m\u001b[32mIn[1]\u001b[39m\u001b[32m, line 1\u001b[39m\n\u001b[32m----> \u001b[39m\u001b[32m1\u001b[39m \u001b[38;5;28;01mimport\u001b[39;00m\u001b[38;5;250m \u001b[39m\u001b[34;01mnumpy\u001b[39;00m\u001b[38;5;250m \u001b[39m\u001b[38;5;28;01mas\u001b[39;00m\u001b[38;5;250m \u001b[39m\u001b[34;01mnp\u001b[39;00m\n\u001b[32m      2\u001b[39m \u001b[38;5;28;01mimport\u001b[39;00m\u001b[38;5;250m \u001b[39m\u001b[34;01mmatplotlib\u001b[39;00m\u001b[34;01m.\u001b[39;00m\u001b[34;01mpyplot\u001b[39;00m\u001b[38;5;250m \u001b[39m\u001b[38;5;28;01mas\u001b[39;00m\u001b[38;5;250m \u001b[39m\u001b[34;01mplt\u001b[39;00m\n\u001b[32m      4\u001b[39m \u001b[38;5;66;03m# Define arbitrarly x\u001b[39;00m\n",
      "\u001b[31mModuleNotFoundError\u001b[39m: No module named 'numpy'"
     ]
    }
   ],
   "source": [
    "import numpy as np\n",
    "import matplotlib.pyplot as plt\n",
    "\n",
    "# Define arbitrarly x\n",
    "x = np.linspace(0, 1, 10)\n",
    "y = 2 * x\n",
    "\n",
    "# Visualize the data\n",
    "plt.plot(x, y, 'o')\n",
    "plt.title(\"Data given by y = 2x.\")\n",
    "plt.xlabel(\"x\")\n",
    "plt.ylabel(\"y\")\n",
    "plt.grid()\n",
    "plt.show()"
   ]
  },
  {
   "cell_type": "code",
   "execution_count": 2,
   "metadata": {},
   "outputs": [
    {
     "ename": "NameError",
     "evalue": "name 'plt' is not defined",
     "output_type": "error",
     "traceback": [
      "\u001b[31m---------------------------------------------------------------------------\u001b[39m",
      "\u001b[31mNameError\u001b[39m                                 Traceback (most recent call last)",
      "\u001b[36mCell\u001b[39m\u001b[36m \u001b[39m\u001b[32mIn[2]\u001b[39m\u001b[32m, line 9\u001b[39m\n\u001b[32m      6\u001b[39m \u001b[38;5;66;03m# Visualize (on the same plot with the data) the function\u001b[39;00m\n\u001b[32m      7\u001b[39m \u001b[38;5;66;03m# f(x, theta) for a user-defined vector theta.\u001b[39;00m\n\u001b[32m      8\u001b[39m theta = [\u001b[32m0\u001b[39m, \u001b[32m2\u001b[39m]\n\u001b[32m----> \u001b[39m\u001b[32m9\u001b[39m \u001b[43mplt\u001b[49m.plot(x, y, \u001b[33m'\u001b[39m\u001b[33mo\u001b[39m\u001b[33m'\u001b[39m)\n\u001b[32m     10\u001b[39m plt.plot(x, f(x, theta))\n\u001b[32m     11\u001b[39m plt.xlabel(\u001b[33m\"\u001b[39m\u001b[33mx\u001b[39m\u001b[33m\"\u001b[39m)\n",
      "\u001b[31mNameError\u001b[39m: name 'plt' is not defined"
     ]
    }
   ],
   "source": [
    "# Define a function f(x, theta) such that:\n",
    "# f(x, theta) = theta_1 + theta_2 * x\n",
    "def f(x, theta):\n",
    "    return theta[0] + theta[1] * x\n",
    "\n",
    "# Visualize (on the same plot with the data) the function\n",
    "# f(x, theta) for a user-defined vector theta.\n",
    "theta = [0, 2]\n",
    "plt.plot(x, y, 'o')\n",
    "plt.plot(x, f(x, theta))\n",
    "plt.xlabel(\"x\")\n",
    "plt.ylabel(\"y\")\n",
    "plt.grid()\n",
    "plt.show()"
   ]
  },
  {
   "cell_type": "code",
   "execution_count": 3,
   "metadata": {},
   "outputs": [
    {
     "ename": "NameError",
     "evalue": "name 'y' is not defined",
     "output_type": "error",
     "traceback": [
      "\u001b[31m---------------------------------------------------------------------------\u001b[39m",
      "\u001b[31mNameError\u001b[39m                                 Traceback (most recent call last)",
      "\u001b[36mCell\u001b[39m\u001b[36m \u001b[39m\u001b[32mIn[3]\u001b[39m\u001b[32m, line 2\u001b[39m\n\u001b[32m      1\u001b[39m \u001b[38;5;66;03m# Consider a little bit of noise\u001b[39;00m\n\u001b[32m----> \u001b[39m\u001b[32m2\u001b[39m y_noisy = \u001b[43my\u001b[49m + np.random.normal(loc=\u001b[32m0\u001b[39m, scale=\u001b[32m0.2\u001b[39m, size=y.shape)\n\u001b[32m      4\u001b[39m \u001b[38;5;66;03m# Visualize the noisy data\u001b[39;00m\n\u001b[32m      5\u001b[39m theta = [\u001b[32m0\u001b[39m, \u001b[32m2\u001b[39m]\n",
      "\u001b[31mNameError\u001b[39m: name 'y' is not defined"
     ]
    }
   ],
   "source": [
    "# Consider a little bit of noise\n",
    "y_noisy = y + np.random.normal(loc=0, scale=0.2, size=y.shape)\n",
    "\n",
    "# Visualize the noisy data\n",
    "theta = [0, 2]\n",
    "plt.plot(x, y_noisy, 'o')\n",
    "plt.plot(x, f(x, theta))\n",
    "plt.title(\"Noisy data given by y = 2x.\")\n",
    "plt.xlabel(\"x\")\n",
    "plt.ylabel(\"y\")\n",
    "plt.grid()\n",
    "plt.show()"
   ]
  },
  {
   "cell_type": "code",
   "execution_count": 4,
   "metadata": {},
   "outputs": [
    {
     "ename": "NameError",
     "evalue": "name 'x' is not defined",
     "output_type": "error",
     "traceback": [
      "\u001b[31m---------------------------------------------------------------------------\u001b[39m",
      "\u001b[31mNameError\u001b[39m                                 Traceback (most recent call last)",
      "\u001b[36mCell\u001b[39m\u001b[36m \u001b[39m\u001b[32mIn[4]\u001b[39m\u001b[32m, line 3\u001b[39m\n\u001b[32m      1\u001b[39m \u001b[38;5;66;03m# Given x and y_noisy, define the matrices X and Y as in the\u001b[39;00m\n\u001b[32m      2\u001b[39m \u001b[38;5;66;03m# notes.\u001b[39;00m\n\u001b[32m----> \u001b[39m\u001b[32m3\u001b[39m N = \u001b[43mx\u001b[49m.shape[\u001b[32m0\u001b[39m]\n\u001b[32m      5\u001b[39m X = np.ones((\u001b[32m2\u001b[39m, N))\n\u001b[32m      6\u001b[39m X[\u001b[32m1\u001b[39m] = x\n",
      "\u001b[31mNameError\u001b[39m: name 'x' is not defined"
     ]
    }
   ],
   "source": [
    "# Given x and y_noisy, define the matrices X and Y as in the\n",
    "# notes.\n",
    "N = x.shape[0]\n",
    "\n",
    "X = np.ones((2, N))\n",
    "X[1] = x\n",
    "Y = y_noisy\n",
    "\n",
    "# Solve Normal Equations XX^T theta = XY\n",
    "# Suggested: use Cholesky\n",
    "L = np.linalg.cholesky(X @ X.T)\n",
    "\n",
    "## First step: solve Lz = XY\n",
    "z = np.linalg.solve(L, X @ Y)\n",
    "\n",
    "## Second step: solve L^T theta = z\n",
    "theta = np.linalg.solve(L.T, z)\n",
    "plt.plot(x, y_noisy, 'o')\n",
    "plt.plot(x, f(x, theta))\n",
    "plt.title(\"Noisy data given by y = 2x.\")\n",
    "plt.xlabel(\"x\")\n",
    "plt.ylabel(\"y\")\n",
    "plt.grid()\n",
    "plt.show()"
   ]
  },
  {
   "cell_type": "code",
   "execution_count": 5,
   "metadata": {},
   "outputs": [
    {
     "ename": "ModuleNotFoundError",
     "evalue": "No module named 'pandas'",
     "output_type": "error",
     "traceback": [
      "\u001b[31m---------------------------------------------------------------------------\u001b[39m",
      "\u001b[31mModuleNotFoundError\u001b[39m                       Traceback (most recent call last)",
      "\u001b[36mCell\u001b[39m\u001b[36m \u001b[39m\u001b[32mIn[5]\u001b[39m\u001b[32m, line 1\u001b[39m\n\u001b[32m----> \u001b[39m\u001b[32m1\u001b[39m \u001b[38;5;28;01mimport\u001b[39;00m\u001b[38;5;250m \u001b[39m\u001b[34;01mpandas\u001b[39;00m\u001b[38;5;250m \u001b[39m\u001b[38;5;28;01mas\u001b[39;00m\u001b[38;5;250m \u001b[39m\u001b[34;01mpd\u001b[39;00m\n\u001b[32m      2\u001b[39m \u001b[38;5;28;01mimport\u001b[39;00m\u001b[38;5;250m \u001b[39m\u001b[34;01mnumpy\u001b[39;00m\u001b[38;5;250m \u001b[39m\u001b[38;5;28;01mas\u001b[39;00m\u001b[38;5;250m \u001b[39m\u001b[34;01mnp\u001b[39;00m\n\u001b[32m      3\u001b[39m \u001b[38;5;28;01mimport\u001b[39;00m\u001b[38;5;250m \u001b[39m\u001b[34;01mmatplotlib\u001b[39;00m\u001b[34;01m.\u001b[39;00m\u001b[34;01mpyplot\u001b[39;00m\u001b[38;5;250m \u001b[39m\u001b[38;5;28;01mas\u001b[39;00m\u001b[38;5;250m \u001b[39m\u001b[34;01mplt\u001b[39;00m\n",
      "\u001b[31mModuleNotFoundError\u001b[39m: No module named 'pandas'"
     ]
    }
   ],
   "source": [
    "import pandas as pd\n",
    "import numpy as np\n",
    "import matplotlib.pyplot as plt\n",
    "\n",
    "# Load data\n",
    "data = pd.read_csv(\"./data/poly_regression_large.csv\")\n",
    "x, y = data[\"x\"], data[\"y\"]\n",
    "\n",
    "# Visualize the data\n",
    "plt.plot(x, y, 'o')\n",
    "plt.title(\"Complex data\")\n",
    "plt.xlabel(\"x\")\n",
    "plt.ylabel(\"y\")\n",
    "plt.grid()\n",
    "plt.show()"
   ]
  },
  {
   "cell_type": "code",
   "execution_count": 6,
   "metadata": {},
   "outputs": [
    {
     "ename": "NameError",
     "evalue": "name 'x' is not defined",
     "output_type": "error",
     "traceback": [
      "\u001b[31m---------------------------------------------------------------------------\u001b[39m",
      "\u001b[31mNameError\u001b[39m                                 Traceback (most recent call last)",
      "\u001b[36mCell\u001b[39m\u001b[36m \u001b[39m\u001b[32mIn[6]\u001b[39m\u001b[32m, line 6\u001b[39m\n\u001b[32m      2\u001b[39m     \u001b[38;5;28;01mreturn\u001b[39;00m theta[\u001b[32m0\u001b[39m] + theta[\u001b[32m1\u001b[39m] * x\n\u001b[32m      4\u001b[39m \u001b[38;5;66;03m# Given x and y_noisy, define the matrices X and Y as in the\u001b[39;00m\n\u001b[32m      5\u001b[39m \u001b[38;5;66;03m# notes.\u001b[39;00m\n\u001b[32m----> \u001b[39m\u001b[32m6\u001b[39m N = \u001b[43mx\u001b[49m.shape[\u001b[32m0\u001b[39m]\n\u001b[32m      8\u001b[39m X = np.ones((\u001b[32m2\u001b[39m, N))\n\u001b[32m      9\u001b[39m X[\u001b[32m1\u001b[39m] = x\n",
      "\u001b[31mNameError\u001b[39m: name 'x' is not defined"
     ]
    }
   ],
   "source": [
    "def f(x, theta):\n",
    "    return theta[0] + theta[1] * x\n",
    "\n",
    "# Given x and y_noisy, define the matrices X and Y as in the\n",
    "# notes.\n",
    "N = x.shape[0]\n",
    "\n",
    "X = np.ones((2, N))\n",
    "X[1] = x\n",
    "Y = y\n",
    "\n",
    "# Solve Normal Equations XX^T theta = XY\n",
    "# Suggested: use Cholesky\n",
    "L = np.linalg.cholesky(X @ X.T)\n",
    "\n",
    "## First step: solve Lz = XY\n",
    "z = np.linalg.solve(L, X @ Y)\n",
    "\n",
    "## Second step: solve L^T theta = z\n",
    "theta = np.linalg.solve(L.T, z)\n",
    "plt.plot(x, y, 'o')\n",
    "plt.plot(x, f(x, theta))\n",
    "plt.title(\"Noisy data given by y = 2x.\")\n",
    "plt.xlabel(\"x\")\n",
    "plt.ylabel(\"y\")\n",
    "plt.grid()\n",
    "plt.show()"
   ]
  },
  {
   "cell_type": "code",
   "execution_count": 7,
   "metadata": {},
   "outputs": [
    {
     "ename": "NameError",
     "evalue": "name 'x' is not defined",
     "output_type": "error",
     "traceback": [
      "\u001b[31m---------------------------------------------------------------------------\u001b[39m",
      "\u001b[31mNameError\u001b[39m                                 Traceback (most recent call last)",
      "\u001b[36mCell\u001b[39m\u001b[36m \u001b[39m\u001b[32mIn[7]\u001b[39m\u001b[32m, line 15\u001b[39m\n\u001b[32m     12\u001b[39m         y = y + theta[j] * x**j\n\u001b[32m     13\u001b[39m     \u001b[38;5;28;01mreturn\u001b[39;00m y\n\u001b[32m---> \u001b[39m\u001b[32m15\u001b[39m PhiX = vandermonde(\u001b[43mx\u001b[49m, K=\u001b[32m10\u001b[39m)\n\u001b[32m     16\u001b[39m Y = y\n\u001b[32m     18\u001b[39m \u001b[38;5;66;03m# Solve normal equations associated with this problem with cholesky and\u001b[39;00m\n\u001b[32m     19\u001b[39m \u001b[38;5;66;03m# visualize the result (copy-paste)\u001b[39;00m\n",
      "\u001b[31mNameError\u001b[39m: name 'x' is not defined"
     ]
    }
   ],
   "source": [
    "# Define polynomial matrix PhiX and Y\n",
    "def vandermonde(x, K):\n",
    "    # Returns PhiX of degree K\n",
    "    PhiX = np.zeros((K, N))\n",
    "    for j in range(K):\n",
    "        PhiX[j, :] = x**j\n",
    "    return PhiX\n",
    "\n",
    "def f(x, theta):\n",
    "    y = 0\n",
    "    for j in range(len(theta)):\n",
    "        y = y + theta[j] * x**j\n",
    "    return y\n",
    "\n",
    "PhiX = vandermonde(x, K=10)\n",
    "Y = y\n",
    "\n",
    "# Solve normal equations associated with this problem with cholesky and\n",
    "# visualize the result (copy-paste)\n",
    "L = np.linalg.cholesky(PhiX @ PhiX.T)\n",
    "\n",
    "## First step: solve Lz = XY\n",
    "z = np.linalg.solve(L, PhiX @ Y)\n",
    "\n",
    "## Second step: solve L^T theta = z\n",
    "theta = np.linalg.solve(L.T, z)\n",
    "theta_true = [0, 0, 4, 0, -3]\n",
    "plt.plot(x, y, 'o')\n",
    "plt.plot(x, f(x, theta_true), 'r')\n",
    "plt.plot(x, f(x, theta), 'k')\n",
    "plt.xlabel(\"x\")\n",
    "plt.ylabel(\"y\")\n",
    "plt.grid()"
   ]
  },
  {
   "cell_type": "code",
   "execution_count": 8,
   "metadata": {},
   "outputs": [
    {
     "ename": "ModuleNotFoundError",
     "evalue": "No module named 'numpy'",
     "output_type": "error",
     "traceback": [
      "\u001b[31m---------------------------------------------------------------------------\u001b[39m",
      "\u001b[31mModuleNotFoundError\u001b[39m                       Traceback (most recent call last)",
      "\u001b[36mCell\u001b[39m\u001b[36m \u001b[39m\u001b[32mIn[8]\u001b[39m\u001b[32m, line 1\u001b[39m\n\u001b[32m----> \u001b[39m\u001b[32m1\u001b[39m \u001b[38;5;28;01mimport\u001b[39;00m\u001b[38;5;250m \u001b[39m\u001b[34;01mnumpy\u001b[39;00m\u001b[38;5;250m \u001b[39m\u001b[38;5;28;01mas\u001b[39;00m\u001b[38;5;250m \u001b[39m\u001b[34;01mnp\u001b[39;00m\n\u001b[32m      3\u001b[39m \u001b[38;5;28;01mdef\u001b[39;00m\u001b[38;5;250m \u001b[39m\u001b[34mSGD\u001b[39m(loss, grad_loss, D, theta0, alpha, batch_size, n_epochs):\n\u001b[32m      4\u001b[39m     X, y = D  \u001b[38;5;66;03m# Unpack the data\u001b[39;00m\n",
      "\u001b[31mModuleNotFoundError\u001b[39m: No module named 'numpy'"
     ]
    }
   ],
   "source": [
    "import numpy as np\n",
    "\n",
    "def SGD(loss, grad_loss, D, theta0, alpha, batch_size, n_epochs):\n",
    "    X, y = D  # Unpack the data\n",
    "    N = X.shape[0] # We assume both X and Y has shape (N, )\n",
    "    d = theta0.shape[0] # While theta0 has shape (d, )\n",
    "    idx = np.arange(0, N) # This is required for the shuffling\n",
    "    \n",
    "    # Initialization of history vectors\n",
    "    theta_history = np.zeros((n_epochs, d))  # Save parameters at each epoch\n",
    "    loss_history = np.zeros((n_epochs, ))  # Save loss values at each epoch\n",
    "    grad_norm_history = np.zeros((n_epochs, ))  # Save gradient norms at each epoch\n",
    "    \n",
    "    # Initialize weights\n",
    "    theta = theta0\n",
    "    for epoch in range(n_epochs):\n",
    "        # Shuffle the data at the beginning of each epoch\n",
    "        np.random.shuffle(idx)\n",
    "        X = X[idx]\n",
    "        y = y[idx]\n",
    "\n",
    "        # Initialize a vector that saves the gradient of the loss at each iteration\n",
    "        grad_loss_vec = []\n",
    "\n",
    "        for batch_start in range(0, N, batch_size):\n",
    "            batch_end = min(batch_start + batch_size, N)\n",
    "            X_batch = X[batch_start:batch_end]\n",
    "            y_batch = y[batch_start:batch_end]\n",
    "            \n",
    "            # Compute the gradient of the loss\n",
    "            gradient = grad_loss(theta, X_batch, y_batch)\n",
    "            grad_loss_vec.append(np.linalg.norm(gradient, 2))\n",
    "\n",
    "            # Update weights\n",
    "            theta = theta - alpha * gradient\n",
    "\n",
    "        # Save the updated values\n",
    "        theta_history[epoch] = theta\n",
    "        loss_history[epoch] = loss(theta, X, y)\n",
    "        grad_norm_history[epoch] = np.mean(grad_loss_vec)\n",
    "    \n",
    "    return theta_history, loss_history, grad_norm_history"
   ]
  },
  {
   "cell_type": "code",
   "execution_count": 9,
   "metadata": {},
   "outputs": [],
   "source": [
    "def f(x, theta):\n",
    "    y = 0\n",
    "    for j in range(len(theta)):\n",
    "        y = y + theta[j] * x**j\n",
    "    return y\n",
    "\n",
    "def loss(theta, X, y):\n",
    "    y_pred = f(X, theta)\n",
    "    error = np.square(y_pred - y)\n",
    "    return np.mean(error)\n",
    "\n",
    "def grad_loss(theta, X, y):\n",
    "    N = len(y)\n",
    "    return 2/N * (f(X, theta) - y)\n"
   ]
  },
  {
   "cell_type": "code",
   "execution_count": null,
   "metadata": {},
   "outputs": [],
   "source": []
  }
 ],
 "metadata": {
  "kernelspec": {
   "display_name": "teaching",
   "language": "python",
   "name": "python3"
  },
  "language_info": {
   "codemirror_mode": {
    "name": "ipython",
    "version": 3
   },
   "file_extension": ".py",
   "mimetype": "text/x-python",
   "name": "python",
   "nbconvert_exporter": "python",
   "pygments_lexer": "ipython3",
   "version": "3.11.13"
  }
 },
 "nbformat": 4,
 "nbformat_minor": 2
}