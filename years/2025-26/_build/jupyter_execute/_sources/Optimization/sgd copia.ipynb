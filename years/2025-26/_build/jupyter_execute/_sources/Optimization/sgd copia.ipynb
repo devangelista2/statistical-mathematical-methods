{
 "cells": [
  {
   "cell_type": "markdown",
   "metadata": {},
   "source": [
    "# SGD\n",
    "\n",
    "The implementation of the SGD algorithm."
   ]
  },
  {
   "cell_type": "code",
   "execution_count": 1,
   "metadata": {},
   "outputs": [
    {
     "ename": "ModuleNotFoundError",
     "evalue": "No module named 'numpy'",
     "output_type": "error",
     "traceback": [
      "\u001b[31m---------------------------------------------------------------------------\u001b[39m",
      "\u001b[31mModuleNotFoundError\u001b[39m                       Traceback (most recent call last)",
      "\u001b[36mCell\u001b[39m\u001b[36m \u001b[39m\u001b[32mIn[1]\u001b[39m\u001b[32m, line 1\u001b[39m\n\u001b[32m----> \u001b[39m\u001b[32m1\u001b[39m \u001b[38;5;28;01mimport\u001b[39;00m\u001b[38;5;250m \u001b[39m\u001b[34;01mnumpy\u001b[39;00m\u001b[38;5;250m \u001b[39m\u001b[38;5;28;01mas\u001b[39;00m\u001b[38;5;250m \u001b[39m\u001b[34;01mnp\u001b[39;00m\n\u001b[32m      2\u001b[39m \u001b[38;5;28;01mimport\u001b[39;00m\u001b[38;5;250m \u001b[39m\u001b[34;01mmatplotlib\u001b[39;00m\u001b[34;01m.\u001b[39;00m\u001b[34;01mpyplot\u001b[39;00m\u001b[38;5;250m \u001b[39m\u001b[38;5;28;01mas\u001b[39;00m\u001b[38;5;250m \u001b[39m\u001b[34;01mplt\u001b[39;00m\n\u001b[32m      4\u001b[39m \u001b[38;5;28;01mdef\u001b[39;00m\u001b[38;5;250m \u001b[39m\u001b[34msgd_optimizer\u001b[39m(loss, grad_loss, w0, D, alpha, batch_size, n_epochs):\n",
      "\u001b[31mModuleNotFoundError\u001b[39m: No module named 'numpy'"
     ]
    }
   ],
   "source": [
    "import numpy as np\n",
    "import matplotlib.pyplot as plt\n",
    "\n",
    "def sgd_optimizer(loss, grad_loss, w0, D, alpha, batch_size, n_epochs):\n",
    "    X, y = D  # Unpack the data\n",
    "    N = X.shape[0]\n",
    "    d = w0.shape[0]\n",
    "    idx = np.arange(0, N)\n",
    "    \n",
    "    # Initialization of history vectors\n",
    "    w_history = np.zeros((n_epochs, d))  # Save weights at each iteration\n",
    "    loss_history = np.zeros((n_epochs, ))  # Save loss values at each iteration\n",
    "    grad_norm_history = np.zeros((n_epochs, ))  # Save gradient norms at each iteration\n",
    "    \n",
    "    # Initialize weights\n",
    "    w = w0  \n",
    "    for epoch in range(n_epochs):\n",
    "        # Shuffle the data at the beginning of each epoch\n",
    "        np.random.shuffle(idx)\n",
    "        X = X[idx]\n",
    "        y = y[idx]\n",
    "\n",
    "        # Initialize a vector that saves the gradient of the loss at each iteration\n",
    "        grad_loss_vec = []\n",
    "\n",
    "        for batch_start in range(0, N, batch_size):\n",
    "            batch_end = min(batch_start + batch_size, N)\n",
    "            X_batch = X[batch_start:batch_end]\n",
    "            y_batch = y[batch_start:batch_end]\n",
    "            \n",
    "            # Compute the gradient of the loss\n",
    "            gradient = grad_loss(w, X_batch, y_batch)\n",
    "            grad_loss_vec.append(np.linalg.norm(gradient, 2))\n",
    "\n",
    "            # Update weights\n",
    "            w = w - alpha*  gradient\n",
    "\n",
    "        # Save the updated values\n",
    "        w_history[epoch] = w\n",
    "        loss_history[epoch] = loss(w, X, y)\n",
    "        grad_norm_history[epoch] = np.mean(grad_loss_vec)\n",
    "    \n",
    "    return w_history, loss_history, grad_norm_history"
   ]
  }
 ],
 "metadata": {
  "kernelspec": {
   "display_name": "Python 3",
   "language": "python",
   "name": "python3"
  },
  "language_info": {
   "codemirror_mode": {
    "name": "ipython",
    "version": 3
   },
   "file_extension": ".py",
   "mimetype": "text/x-python",
   "name": "python",
   "nbconvert_exporter": "python",
   "pygments_lexer": "ipython3",
   "version": "3.11.13"
  }
 },
 "nbformat": 4,
 "nbformat_minor": 2
}