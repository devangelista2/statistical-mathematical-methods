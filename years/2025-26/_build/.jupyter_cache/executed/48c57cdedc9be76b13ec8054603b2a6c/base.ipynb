{
 "cells": [
  {
   "cell_type": "code",
   "execution_count": 1,
   "metadata": {},
   "outputs": [],
   "source": [
    "import numpy as np\n",
    "\n",
    "def SGD(f, grad_f, X, Y, Theta0, lr=1e-2, batch_size=32, epochs=10):\n",
    "    \"\"\"\n",
    "    Simplified Stochastic Gradient Descent (SGD) implementation.\n",
    "    f: loss function, grad_f: gradient wrt Theta\n",
    "    X, Y: dataset\n",
    "    Theta0: initial parameters\n",
    "    lr: learning rate\n",
    "    \"\"\"\n",
    "    Theta = Theta0.copy()\n",
    "    N = len(X)\n",
    "    for epoch in range(epochs):\n",
    "        # Shuffle data indices\n",
    "        idx = np.random.permutation(N)\n",
    "        for start in range(0, N, batch_size):\n",
    "            batch_idx = idx[start:start+batch_size]\n",
    "            grad = grad_f(Theta, X[batch_idx], Y[batch_idx])\n",
    "            Theta -= lr * grad\n",
    "    return Theta"
   ]
  }
 ],
 "metadata": {
  "kernelspec": {
   "display_name": "teaching",
   "language": "python",
   "name": "python3"
  },
  "language_info": {
   "codemirror_mode": {
    "name": "ipython",
    "version": 3
   },
   "file_extension": ".py",
   "mimetype": "text/x-python",
   "name": "python",
   "nbconvert_exporter": "python",
   "pygments_lexer": "ipython3",
   "version": "3.12.2"
  }
 },
 "nbformat": 4,
 "nbformat_minor": 2
}