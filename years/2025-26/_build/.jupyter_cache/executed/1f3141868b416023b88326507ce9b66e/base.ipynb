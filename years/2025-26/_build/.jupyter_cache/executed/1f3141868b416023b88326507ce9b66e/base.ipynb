{
 "cells": [
  {
   "cell_type": "code",
   "execution_count": 1,
   "id": "7ca3f97b",
   "metadata": {},
   "outputs": [
    {
     "data": {
      "image/png": "[encoded data removed]",
      "text/plain": [
       "<Figure size 640x480 with 1 Axes>"
      ]
     },
     "metadata": {},
     "output_type": "display_data"
    },
    {
     "name": "stdout",
     "output_type": "stream",
     "text": [
      "Theta found: [-0.01966874  2.03725588], it. 199\n"
     ]
    }
   ],
   "source": [
    "import numpy as np\n",
    "import matplotlib.pyplot as plt\n",
    "\n",
    "# Step 1: Generate dataset\n",
    "# Y = 2X + e, e ~ N(0, 0.1)\n",
    "\n",
    "X = np.linspace(0, 1, 100)\n",
    "Y = 2 * X + np.random.normal(0, 0.1, size=X.shape)\n",
    "\n",
    "# Visualize it\n",
    "plt.plot(X, Y, 'o')\n",
    "plt.grid(alpha=0.3)\n",
    "plt.show()\n",
    "\n",
    "# Step 2: Define loss function\n",
    "def l(Theta, X, Y):\n",
    "    # Loss function should be\n",
    "    # l(Theta, X, Y) = 1/N sum((Theta[0] + Theta[1]*X_i - Y_i)^2)\n",
    "    return np.mean(np.square(Theta[0] + Theta[1]*X - Y))\n",
    "\n",
    "def grad_l(Theta, X, Y):\n",
    "    N = len(X)\n",
    "    g1 = 2 * np.mean(Theta[0] + Theta[1]*X - Y)\n",
    "    g2 = 2 / N * np.dot(Theta[0] + Theta[1]*X - Y, X)\n",
    "       # 2 * np.mean((Theta[0] + Theta[1]*X - Y) * X)\n",
    "    return np.array([g1, g2])\n",
    "\n",
    "def GD(l, grad_l, X, Y, theta_0, eta, maxit, tolL, toltheta):\n",
    "    # NEEDS TO BE ADJUSTED!!\n",
    "    for k in range(maxit):\n",
    "        # GD step        \n",
    "        theta = theta_0 - eta * grad_l(theta_0, X, Y)\n",
    "\n",
    "        # Check stopping criteria\n",
    "        if (np.linalg.norm(grad_l(theta, X, Y)) < tolL) or (np.linalg.norm(theta - theta_0) < toltheta):\n",
    "            break\n",
    "\n",
    "        # Update of theta_0\n",
    "        theta_0 = theta\n",
    "    return theta, k\n",
    "\n",
    "# TRY IT (expect solution: (0, 2))\n",
    "theta_0 = np.array([0, 0])\n",
    "eta = 0.5\n",
    "maxit = 200\n",
    "tolL = 1e-10\n",
    "toltheta = 1e-10\n",
    "theta_GD, k_GD = GD(l, grad_l, X, Y, theta_0, eta, maxit, tolL, toltheta)\n",
    "\n",
    "print(f\"Theta found: {theta_GD}, it. {k_GD}\")"
   ]
  },
  {
   "cell_type": "code",
   "execution_count": 2,
   "id": "d348cf12",
   "metadata": {},
   "outputs": [
    {
     "name": "stdout",
     "output_type": "stream",
     "text": [
      "Theta found: [-0.05974356  2.00973693], it. 49\n"
     ]
    }
   ],
   "source": [
    "def SGD(l, grad_l, X, Y, Theta0, lr=1e-2, batch_size=32, epochs=10):\n",
    "    \"\"\"\n",
    "    Simplified Stochastic Gradient Descent (SGD) implementation.\n",
    "    l: loss function, grad_l: gradient wrt Theta\n",
    "    X, Y: dataset\n",
    "    Theta0: initial parameters\n",
    "    lr: learning rate (eta)\n",
    "    \"\"\"\n",
    "    Theta = Theta0\n",
    "    for epoch in range(epochs):\n",
    "        # Something\n",
    "        # Step 4: Restart the data and shuffle\n",
    "        shuffle_idx = np.arange(len(X))\n",
    "        np.random.shuffle(shuffle_idx)\n",
    "\n",
    "        X = X[shuffle_idx]\n",
    "        Y = Y[shuffle_idx]\n",
    "\n",
    "        n_batches = len(X) // batch_size\n",
    "        for batch in range(n_batches):\n",
    "            # Step 1: Randomly sample a batch from data\n",
    "            Xb = X[batch * batch_size : (batch+1) * batch_size]\n",
    "            Yb = Y[batch * batch_size : (batch+1) * batch_size]\n",
    "\n",
    "            # Step 2: Compute the grad_l over Xb, Yb\n",
    "            g = grad_l(Theta, Xb, Yb)\n",
    "\n",
    "            # Step 3: Perform one step of GD on g\n",
    "            Theta = Theta - lr * g\n",
    "    return Theta, epoch\n",
    "\n",
    "\n",
    "\n",
    "theta_0 = np.array([0, 0])\n",
    "eta = 0.5\n",
    "maxit = 200\n",
    "tolL = 1e-10\n",
    "toltheta = 1e-10\n",
    "theta_SGD, k_SGD = SGD(l, grad_l, X, Y, theta_0, lr=eta, \n",
    "                       batch_size=10, epochs=50)\n",
    "\n",
    "print(f\"Theta found: {theta_SGD}, it. {k_SGD}\")"
   ]
  }
 ],
 "metadata": {
  "kernelspec": {
   "display_name": "teaching",
   "language": "python",
   "name": "python3"
  },
  "language_info": {
   "codemirror_mode": {
    "name": "ipython",
    "version": 3
   },
   "file_extension": ".py",
   "mimetype": "text/x-python",
   "name": "python",
   "nbconvert_exporter": "python",
   "pygments_lexer": "ipython3",
   "version": "3.12.2"
  }
 },
 "nbformat": 4,
 "nbformat_minor": 5
}