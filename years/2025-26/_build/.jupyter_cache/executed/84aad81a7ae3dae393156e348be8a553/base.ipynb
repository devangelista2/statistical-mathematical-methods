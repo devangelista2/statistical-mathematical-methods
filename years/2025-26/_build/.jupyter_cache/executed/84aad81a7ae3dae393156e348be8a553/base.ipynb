{
 "cells": [
  {
   "cell_type": "code",
   "execution_count": 1,
   "id": "6d12bc71",
   "metadata": {},
   "outputs": [],
   "source": [
    "import numpy as np\n",
    "import pandas as pd\n",
    "\n",
    "# Download `diabetes.csv` from Kaggle and place it in notebook directory\n",
    "df = pd.read_csv(\"data/diabetes.csv\")\n",
    "\n",
    "X = df.drop(\"Outcome\", axis=1).values   # features\n",
    "y = df[\"Outcome\"].values.reshape(-1,1)  # labels\n",
    "\n",
    "# Standardize features\n",
    "X_mean, X_std = X.mean(axis=0), X.std(axis=0)\n",
    "X = (X - X_mean) / X_std\n",
    "\n",
    "# Add bias term\n",
    "X = np.hstack([np.ones((X.shape[0],1)), X])\n",
    "N, d = X.shape"
   ]
  }
 ],
 "metadata": {
  "kernelspec": {
   "display_name": "teaching",
   "language": "python",
   "name": "python3"
  },
  "language_info": {
   "codemirror_mode": {
    "name": "ipython",
    "version": 3
   },
   "file_extension": ".py",
   "mimetype": "text/x-python",
   "name": "python",
   "nbconvert_exporter": "python",
   "pygments_lexer": "ipython3",
   "version": "3.12.2"
  }
 },
 "nbformat": 4,
 "nbformat_minor": 5
}