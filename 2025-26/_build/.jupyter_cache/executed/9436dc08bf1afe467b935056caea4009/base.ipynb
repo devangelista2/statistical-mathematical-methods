{
 "cells": [
  {
   "cell_type": "code",
   "execution_count": 1,
   "metadata": {},
   "outputs": [
    {
     "name": "stdout",
     "output_type": "stream",
     "text": [
      "<class 'numpy.ndarray'>\n"
     ]
    }
   ],
   "source": [
    "import numpy as np\n",
    "\n",
    "# Define a Python list\n",
    "a = [1, 2, 3]\n",
    "\n",
    "# Convert it to numpy array\n",
    "a_vec = np.array(a)\n",
    "\n",
    "# Check the type of a_vec\n",
    "print(type(a_vec))"
   ]
  },
  {
   "cell_type": "code",
   "execution_count": 2,
   "metadata": {},
   "outputs": [
    {
     "name": "stdout",
     "output_type": "stream",
     "text": [
      "(3, 3)\n"
     ]
    }
   ],
   "source": [
    "A = [[1, 1, -1], [2, 0, 0], [0, 1, 2]]\n",
    "A = np.array(A)\n",
    "\n",
    "print(A.shape) # Use .shape to print the shape"
   ]
  },
  {
   "cell_type": "code",
   "execution_count": 3,
   "metadata": {},
   "outputs": [
    {
     "name": "stdout",
     "output_type": "stream",
     "text": [
      "[ 0  2  4  6  8 10 12 14 16 18]\n"
     ]
    }
   ],
   "source": [
    "# Create the vector\n",
    "a = np.arange(0, 20, 2)\n",
    "\n",
    "# Visualize the vector\n",
    "print(a)"
   ]
  },
  {
   "cell_type": "code",
   "execution_count": 4,
   "metadata": {},
   "outputs": [
    {
     "name": "stdout",
     "output_type": "stream",
     "text": [
      "[-1.22409135 -1.75358188 -1.53887309 -1.78084788  6.76688315 -0.2735545\n",
      " -0.04995301 -2.15895619  1.00396131 -0.80654089]\n",
      "[-1.22409135 -1.75358188 -1.53887309 -1.78084788  6.76688315 -0.2735545\n",
      " -0.04995301 -2.15895619  1.00396131 -0.80654089]\n"
     ]
    }
   ],
   "source": [
    "import numpy as np\n",
    "\n",
    "# Dimension of the problem\n",
    "n = 10\n",
    "\n",
    "# Create the vectors\n",
    "x1 = np.linspace(0, 1, n)\n",
    "x2 = np.random.randn(n)\n",
    "\n",
    "# Create the matrix\n",
    "A = np.random.randn(n, n)\n",
    "\n",
    "# Compute y1 and y2\n",
    "y1 = A @ x1\n",
    "y2 = A @ x2\n",
    "\n",
    "# Compute y = A(x1 + x2)\n",
    "y = A @ (x1 + x2)\n",
    "\n",
    "# Check the equality\n",
    "print(y)\n",
    "print(y1 + y2)"
   ]
  },
  {
   "cell_type": "code",
   "execution_count": 5,
   "metadata": {},
   "outputs": [
    {
     "name": "stdout",
     "output_type": "stream",
     "text": [
      "[ 0  1 -1  2  1 -1]\n",
      "[ 0  1 -1]\n"
     ]
    }
   ],
   "source": [
    "# Create the array\n",
    "v = np.array([0, 1, -1, 2, 1, -1])\n",
    "print(v)\n",
    "\n",
    "# Slicing\n",
    "w = v[0:3]\n",
    "print(w)"
   ]
  },
  {
   "cell_type": "code",
   "execution_count": 6,
   "metadata": {},
   "outputs": [],
   "source": [
    "# Create the array\n",
    "v = np.array([0, 1, -1, 2, 1, -1])\n",
    "\n",
    "# Slicing\n",
    "idx = np.arange(0, len(v), 2)\n",
    "w = v[idx]"
   ]
  },
  {
   "cell_type": "code",
   "execution_count": 7,
   "metadata": {},
   "outputs": [
    {
     "name": "stdout",
     "output_type": "stream",
     "text": [
      "[ 0  1 -1  2  1 -1]\n",
      "[ 0  0 -1  1  2 -1]\n",
      "[ 0 -1 -1]\n"
     ]
    }
   ],
   "source": [
    "# Create arrays\n",
    "v = np.array([0, 1, -1, 2, 1, -1])\n",
    "w = np.array([0, 0, -1, 1, 2, -1])\n",
    "\n",
    "# Slicing\n",
    "t = v[v == w]\n",
    "print(v)\n",
    "print(w)\n",
    "print(t)"
   ]
  },
  {
   "cell_type": "code",
   "execution_count": 8,
   "metadata": {},
   "outputs": [],
   "source": [
    "# Create the matrix\n",
    "A = np.array([[1, 2, 3], [4, 5, 6], [7, 8, 9]])\n",
    "\n",
    "# Slicing\n",
    "B = A[:2, :2]"
   ]
  },
  {
   "cell_type": "code",
   "execution_count": 9,
   "metadata": {},
   "outputs": [],
   "source": [
    "import pandas as pd\n",
    "\n",
    "# Read data from a csv file\n",
    "data = pd.read_csv('./data/US_births_2000-2014_SSA.csv')"
   ]
  },
  {
   "cell_type": "code",
   "execution_count": 10,
   "metadata": {},
   "outputs": [
    {
     "name": "stdout",
     "output_type": "stream",
     "text": [
      "(5479, 5) should be equal to (5479, 5)\n"
     ]
    }
   ],
   "source": [
    "import numpy as np\n",
    "\n",
    "# Cast into numpy array\n",
    "np_data = np.array(data)\n",
    "\n",
    "# Check that the dimension didn't change\n",
    "print(f\"{data.shape} should be equal to {np_data.shape}\")"
   ]
  }
 ],
 "metadata": {
  "kernelspec": {
   "display_name": "nn",
   "language": "python",
   "name": "python3"
  },
  "language_info": {
   "codemirror_mode": {
    "name": "ipython",
    "version": 3
   },
   "file_extension": ".py",
   "mimetype": "text/x-python",
   "name": "python",
   "nbconvert_exporter": "python",
   "pygments_lexer": "ipython3",
   "version": "3.12.4"
  }
 },
 "nbformat": 4,
 "nbformat_minor": 2
}