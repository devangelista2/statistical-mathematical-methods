{
 "cells": [
  {
   "cell_type": "code",
   "execution_count": 1,
   "metadata": {},
   "outputs": [
    {
     "name": "stdout",
     "output_type": "stream",
     "text": [
      "<class 'int'>\n",
      "<class 'str'>\n"
     ]
    }
   ],
   "source": [
    "a = 3\n",
    "print(type(a))\n",
    "\n",
    "a = \"Hello\"\n",
    "print(type(a))"
   ]
  },
  {
   "cell_type": "code",
   "execution_count": 2,
   "metadata": {},
   "outputs": [
    {
     "name": "stdout",
     "output_type": "stream",
     "text": [
      "The value of pi is: 3.1416.\n"
     ]
    }
   ],
   "source": [
    "pi = 3.14159265358979323846\n",
    "print(f\"The value of pi is: {pi:0.4f}.\")"
   ]
  },
  {
   "cell_type": "code",
   "execution_count": 3,
   "metadata": {},
   "outputs": [
    {
     "name": "stdout",
     "output_type": "stream",
     "text": [
      "(1, True, 'Hello')\n",
      "<class 'tuple'>\n",
      "[2.3, 1, 0, -2]\n",
      "<class 'list'>\n"
     ]
    }
   ],
   "source": [
    "# Create a tuple\n",
    "t = 1, True, \"Hello\"\n",
    "print(t)\n",
    "print(type(t))\n",
    "\n",
    "# And a List\n",
    "l = [2.3, 1, 0, -2]\n",
    "print(l)\n",
    "print(type(l))"
   ]
  },
  {
   "cell_type": "code",
   "execution_count": 4,
   "metadata": {},
   "outputs": [
    {
     "name": "stdout",
     "output_type": "stream",
     "text": [
      "0\n",
      "Hello\n"
     ]
    },
    {
     "ename": "TypeError",
     "evalue": "'tuple' object does not support item assignment",
     "output_type": "error",
     "traceback": [
      "\u001b[0;31m---------------------------------------------------------------------------\u001b[0m",
      "\u001b[0;31mTypeError\u001b[0m                                 Traceback (most recent call last)",
      "Cell \u001b[0;32mIn[4], line 11\u001b[0m\n\u001b[1;32m      9\u001b[0m \u001b[38;5;66;03m# Modify the element\u001b[39;00m\n\u001b[1;32m     10\u001b[0m l[\u001b[38;5;241m2\u001b[39m] \u001b[38;5;241m=\u001b[39m \u001b[38;5;241m1.1\u001b[39m\n\u001b[0;32m---> 11\u001b[0m \u001b[43mt\u001b[49m\u001b[43m[\u001b[49m\u001b[38;5;241;43m2\u001b[39;49m\u001b[43m]\u001b[49m \u001b[38;5;241m=\u001b[39m \u001b[38;5;241m1.1\u001b[39m\n",
      "\u001b[0;31mTypeError\u001b[0m: 'tuple' object does not support item assignment"
     ]
    }
   ],
   "source": [
    "# Define a list and a tuple\n",
    "l = [2.3, 1, 0, -2]\n",
    "t = (1, True, \"Hello\", -1)\n",
    "\n",
    "# Access its element of index 2\n",
    "print(l[2])\n",
    "print(t[2])\n",
    "\n",
    "# Modify the element\n",
    "l[2] = 1.1\n",
    "t[2] = 1.1"
   ]
  },
  {
   "cell_type": "code",
   "execution_count": 5,
   "metadata": {},
   "outputs": [
    {
     "name": "stdout",
     "output_type": "stream",
     "text": [
      "[2, 4]\n",
      "[9, 3, 6, 1, 4, 2, 3, 1]\n"
     ]
    }
   ],
   "source": [
    "# Define a list\n",
    "l = [1, 3, 2, 4, 1, 6, 3, 9]\n",
    "print(l[2:4])\n",
    "print(l[::-1])"
   ]
  },
  {
   "cell_type": "code",
   "execution_count": 6,
   "metadata": {},
   "outputs": [
    {
     "name": "stdout",
     "output_type": "stream",
     "text": [
      "a aa\n",
      "True 2\n",
      "1 2\n"
     ]
    }
   ],
   "source": [
    "# Printing numbers from 0 to 4 (i.e. 5 - 1)\n",
    "l = [\"a\", True, 1]\n",
    "\n",
    "for i in l: # when a single value is specified -> start = 0, step = 1.\n",
    "    print(i, i*2)"
   ]
  },
  {
   "cell_type": "code",
   "execution_count": 7,
   "metadata": {},
   "outputs": [
    {
     "name": "stdout",
     "output_type": "stream",
     "text": [
      "1.3555057952355718\n"
     ]
    }
   ],
   "source": [
    "# Load into memory a few packages\n",
    "import math\n",
    "import random\n",
    "\n",
    "# Print the exponential of a random number in the range (0, 1)\n",
    "x = random.random() # Random number in the range (0, 1)\n",
    "print(math.exp(x)) # Exponential of that number"
   ]
  },
  {
   "cell_type": "code",
   "execution_count": 8,
   "metadata": {},
   "outputs": [
    {
     "name": "stdout",
     "output_type": "stream",
     "text": [
      "0.48048541650096344\n"
     ]
    }
   ],
   "source": [
    "import random as rnd\n",
    "\n",
    "x = rnd.random()\n",
    "print(x)"
   ]
  },
  {
   "cell_type": "code",
   "execution_count": 9,
   "metadata": {},
   "outputs": [
    {
     "name": "stdout",
     "output_type": "stream",
     "text": [
      "0.569419486860567\n"
     ]
    }
   ],
   "source": [
    "from random import *\n",
    "print(random())"
   ]
  },
  {
   "cell_type": "code",
   "execution_count": 10,
   "metadata": {},
   "outputs": [
    {
     "name": "stdout",
     "output_type": "stream",
     "text": [
      "/Users/davideevangelista/statistical-mathematical-methods/code\n"
     ]
    }
   ],
   "source": [
    "import os\n",
    "\n",
    "print(os.getcwd())"
   ]
  },
  {
   "cell_type": "code",
   "execution_count": 11,
   "metadata": {},
   "outputs": [],
   "source": [
    "relative_path_file = \"./data\"\n",
    "absolute_path_file = \"/Users/davideevangelista/Desktop/data\""
   ]
  },
  {
   "cell_type": "code",
   "execution_count": 12,
   "metadata": {},
   "outputs": [
    {
     "ename": "FileNotFoundError",
     "evalue": "[Errno 2] No such file or directory: '/Users/davideevangelista/Desktop/data'",
     "output_type": "error",
     "traceback": [
      "\u001b[0;31m---------------------------------------------------------------------------\u001b[0m",
      "\u001b[0;31mFileNotFoundError\u001b[0m                         Traceback (most recent call last)",
      "Cell \u001b[0;32mIn[12], line 1\u001b[0m\n\u001b[0;32m----> 1\u001b[0m \u001b[38;5;28mprint\u001b[39m(\u001b[43mos\u001b[49m\u001b[38;5;241;43m.\u001b[39;49m\u001b[43mlistdir\u001b[49m\u001b[43m(\u001b[49m\u001b[43mabsolute_path_file\u001b[49m\u001b[43m)\u001b[49m)\n",
      "\u001b[0;31mFileNotFoundError\u001b[0m: [Errno 2] No such file or directory: '/Users/davideevangelista/Desktop/data'"
     ]
    }
   ],
   "source": [
    "print(os.listdir(absolute_path_file))"
   ]
  },
  {
   "cell_type": "code",
   "execution_count": 13,
   "metadata": {},
   "outputs": [
    {
     "name": "stdout",
     "output_type": "stream",
     "text": [
      "0.44862985610961914\n"
     ]
    }
   ],
   "source": [
    "import time\n",
    "import random\n",
    "\n",
    "# Initialize a random array of length 100_000\n",
    "l = [random.gauss() for _ in range(10_000_000)]\n",
    "\n",
    "# Start timer\n",
    "start_time = time.time()\n",
    "\n",
    "# Cycle on l and project to 0 all the negative elements\n",
    "for i in range(len(l)):\n",
    "    if l[i] < 0:\n",
    "        l[i] = 0\n",
    "\n",
    "# End timer\n",
    "end_time = time.time()\n",
    "\n",
    "# Print execution time\n",
    "print(end_time - start_time)"
   ]
  },
  {
   "cell_type": "code",
   "execution_count": 14,
   "metadata": {},
   "outputs": [
    {
     "name": "stdout",
     "output_type": "stream",
     "text": [
      "<class 'numpy.ndarray'>\n",
      "(3,)\n"
     ]
    }
   ],
   "source": [
    "import numpy as np\n",
    "\n",
    "# Define a Python list\n",
    "a = [1, 2, 3]\n",
    "\n",
    "# Convert it to numpy array\n",
    "a_vec = np.array(a)\n",
    "\n",
    "# Check the type of a_vec\n",
    "print(type(a_vec))\n",
    "print(a_vec.shape)"
   ]
  },
  {
   "cell_type": "code",
   "execution_count": 15,
   "metadata": {},
   "outputs": [
    {
     "name": "stdout",
     "output_type": "stream",
     "text": [
      "(3, 3)\n"
     ]
    }
   ],
   "source": [
    "A = [[1, 1, -1], \n",
    "     [2, 0, 0], \n",
    "     [0, 1, 2]]\n",
    "A = np.array(A)\n",
    "\n",
    "print(A.shape) # Use .shape to print the shape"
   ]
  },
  {
   "cell_type": "code",
   "execution_count": 16,
   "metadata": {},
   "outputs": [
    {
     "name": "stdout",
     "output_type": "stream",
     "text": [
      "(3,)\n",
      "(1, 3)\n",
      "(3, 1)\n"
     ]
    }
   ],
   "source": [
    "a = np.array([1, 2, 3])\n",
    "print(a.shape)\n",
    "\n",
    "a_row = np.array([[1, 2, 3]])\n",
    "print(a_row.shape)\n",
    "\n",
    "a_col = np.array([[1], [2], [3]])\n",
    "print(a_col.shape)"
   ]
  },
  {
   "cell_type": "code",
   "execution_count": 17,
   "metadata": {},
   "outputs": [
    {
     "name": "stdout",
     "output_type": "stream",
     "text": [
      "[0.  0.1 0.2 0.3 0.4 0.5 0.6 0.7 0.8 0.9 1. ]\n"
     ]
    }
   ],
   "source": [
    "v = np.linspace(0, 1, 11)\n",
    "print(v)"
   ]
  },
  {
   "cell_type": "code",
   "execution_count": 18,
   "metadata": {},
   "outputs": [
    {
     "name": "stdout",
     "output_type": "stream",
     "text": [
      "[0. 0. 0. 0. 0.]\n"
     ]
    }
   ],
   "source": [
    "z = np.zeros((5,))\n",
    "print(z)"
   ]
  },
  {
   "cell_type": "code",
   "execution_count": 19,
   "metadata": {},
   "outputs": [
    {
     "name": "stdout",
     "output_type": "stream",
     "text": [
      "[0 2 2]\n"
     ]
    }
   ],
   "source": [
    "A = [[1, 1, -1], \n",
    "     [2, 0, 0], \n",
    "     [0, 1, 2]]\n",
    "A = np.array(A)\n",
    "v = np.array([1, 0, 1])\n",
    "w = np.array([-1, 1, -2])\n",
    "print(A @ v)"
   ]
  },
  {
   "cell_type": "code",
   "execution_count": 20,
   "metadata": {},
   "outputs": [
    {
     "name": "stdout",
     "output_type": "stream",
     "text": [
      "0.054826974868774414\n"
     ]
    },
    {
     "name": "stdout",
     "output_type": "stream",
     "text": [
      "0.5910859107971191\n"
     ]
    }
   ],
   "source": [
    "import numpy as np\n",
    "import math\n",
    "import random\n",
    "import time\n",
    "\n",
    "v_np = np.random.normal(0, 1, (10_000_000,))\n",
    "v = [random.gauss(0, 1) for _ in range(10_000_000)]\n",
    "\n",
    "start_time = time.time()\n",
    "y_np = np.exp(v_np)\n",
    "end_time = time.time()\n",
    "print(end_time - start_time)\n",
    "\n",
    "start_time = time.time()\n",
    "y = [0] * len(v)\n",
    "for i in range(len(v)):\n",
    "    y[i] = math.exp(v[i])\n",
    "end_time = time.time()\n",
    "print(end_time - start_time)"
   ]
  },
  {
   "cell_type": "code",
   "execution_count": 21,
   "metadata": {},
   "outputs": [
    {
     "name": "stdout",
     "output_type": "stream",
     "text": [
      "[ 0  1 -1  2  1 -1]\n",
      "[ 0  0 -1  1  2 -1]\n",
      "[ 0 -1 -1]\n"
     ]
    }
   ],
   "source": [
    "# Create arrays\n",
    "v = np.array([0, 1, -1, 2, 1, -1])\n",
    "w = np.array([0, 0, -1, 1, 2, -1])\n",
    "\n",
    "# Slicing\n",
    "t = v[v == w]\n",
    "print(v)\n",
    "print(w)\n",
    "print(t)"
   ]
  },
  {
   "cell_type": "code",
   "execution_count": 22,
   "metadata": {},
   "outputs": [
    {
     "name": "stdout",
     "output_type": "stream",
     "text": [
      "0.03427886962890625\n"
     ]
    }
   ],
   "source": [
    "v = np.random.normal(0, 1, (10_000_000))\n",
    "start_time = time.time()\n",
    "v[v<0] = 0\n",
    "end_time = time.time()\n",
    "print(end_time - start_time)"
   ]
  }
 ],
 "metadata": {
  "kernelspec": {
   "display_name": "teaching",
   "language": "python",
   "name": "python3"
  },
  "language_info": {
   "codemirror_mode": {
    "name": "ipython",
    "version": 3
   },
   "file_extension": ".py",
   "mimetype": "text/x-python",
   "name": "python",
   "nbconvert_exporter": "python",
   "pygments_lexer": "ipython3",
   "version": "3.12.4"
  }
 },
 "nbformat": 4,
 "nbformat_minor": 2
}