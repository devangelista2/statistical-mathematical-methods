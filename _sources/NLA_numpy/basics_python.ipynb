{
 "cells": [
  {
   "cell_type": "markdown",
   "metadata": {},
   "source": [
    "# Python Basics\n",
    "Python has become one of the most popular and essential programming languages in the world, especially in the fields of Machine Learning and Data Science, but also for Numerical Linear Algebra applications. \n",
    "\n",
    "In terms of statistics, Python is ranked as the number one programming language in 2023, and over 70% of machine learning professionals and data scientists rely on it for their work. Its simplicity, extensive libraries, and vibrant community make Python an ideal tool for solving complex problems in fields like Linear Algebra and Machine Learning, giving it a leading role in modern scientific computing.\n",
    "\n",
    "In this course, we will assume you already have a basic understanding on how Python works and on its syntax. However, since it is not possible to understand the topics without understanding Python, in the following we will brielfy recall some basic aspects of the language.\n",
    "\n",
    "Note that this is far from being enough to be able to use Python at professional level, neither it is enough for the exam. If you are not familiar enough with the basic syntax of Python, I recommend to check for a complete tutorial online (YouTube is full of them)!"
   ]
  },
  {
   "cell_type": "markdown",
   "metadata": {},
   "source": [
    "### Typing\n",
    "Python is an untyped language, meaning that the variable can change their type dynamically, without explicitly specifying it.\n",
    "\n",
    "To check the type of a variabile in Python, you can use the function `type()`, that returns as output the type of the variabile given as input."
   ]
  },
  {
   "cell_type": "code",
   "execution_count": null,
   "metadata": {},
   "outputs": [],
   "source": [
    "# Define a couple of variabiles\n",
    "a = 3 # this is an \"int\"\n",
    "b = 2.1 # this is a \"float\"\n",
    "s = \"Hello, World!\" # this is a \"str\"\n",
    "c = True # this is a \"bool\"\n",
    "\n",
    "print(type(a))\n",
    "print(type(s))"
   ]
  },
  {
   "cell_type": "markdown",
   "metadata": {},
   "source": [
    "```{note}\n",
    "Python variable names is **case-sensitive**, meaning that the variables `a` and `A` are two completely different objects.\n",
    "```"
   ]
  },
  {
   "cell_type": "code",
   "execution_count": null,
   "metadata": {},
   "outputs": [],
   "source": [
    "# Define variables a and A\n",
    "a = \"Hello!\"\n",
    "A = \"World!\"\n",
    "\n",
    "print(a)\n",
    "print(A)"
   ]
  },
  {
   "cell_type": "markdown",
   "metadata": {},
   "source": [
    "### `f-string`\n",
    "In the following, when we need to print out sentences that comprehend the value of a variable, we will make use of a Python functionality which is called an `f-string`. To declare an `f-string`, just type the symbol *f* just before a string symbol.\n",
    "\n",
    "This way, we can include variable values inside of the string by embedding the variable name into curly brackets `{}`."
   ]
  },
  {
   "cell_type": "code",
   "execution_count": null,
   "metadata": {},
   "outputs": [],
   "source": [
    "pi = 3.14159265358979323846\n",
    "print(f\"The value of pi is: {pi:0.4f}.\")"
   ]
  },
  {
   "cell_type": "markdown",
   "metadata": {},
   "source": [
    "Note that into the brackets, I also included a formatting operator, which is the value following the column `:`. This is a setting specification we can use to customize the formatting of the value. In particular, `0.4f` means that we want to visualize all the integer part of the number, and the first four decimal digits.\n",
    "\n",
    "A complete list of Python formatting for `f-string` is available at: https://www.w3schools.com/python/python_string_formatting.asp."
   ]
  },
  {
   "cell_type": "markdown",
   "metadata": {},
   "source": [
    "### Array: `tuple` and `list`\n",
    "In basic Python, there are two main types of arrays: `tuple` and `list`. They are very similar in terms of functionality, with the main difference that the `list` are mutable (i.e. you can modify its elements after creating it), while the `tuple` is static.\n",
    "\n",
    "To initialize a `tuple`, simply include its values between brackets `()`, separated by a comma; to initialize a `list`, instead include its values between square brackets `[]`, again separated by a comma."
   ]
  },
  {
   "cell_type": "code",
   "execution_count": null,
   "metadata": {},
   "outputs": [],
   "source": [
    "# Create a tuple\n",
    "t = (1, True, \"Hello\")\n",
    "print(t)\n",
    "print(type(t))\n",
    "\n",
    "# And a List\n",
    "l = [2.3, 1, 0, -2]\n",
    "print(l)\n",
    "print(type(l))"
   ]
  },
  {
   "cell_type": "markdown",
   "metadata": {},
   "source": [
    "You can then access elements of both lists and tuples by including into square brackets the index of the position of the element you want to access.\n",
    "\n",
    "**IMPORTANT:** Indices begins with `0`. "
   ]
  },
  {
   "cell_type": "code",
   "execution_count": null,
   "metadata": {},
   "outputs": [],
   "source": [
    "# Define a list and a tuple\n",
    "l = [2.3, 1, 0, -2]\n",
    "t = (1, True, \"Hello\", -1)\n",
    "\n",
    "# Access its element of index 2\n",
    "print(l[2])\n",
    "print(t[2])\n",
    "\n",
    "# Modify the element\n",
    "l[2] = 1.1\n",
    "t[2] = 1.1"
   ]
  },
  {
   "cell_type": "markdown",
   "metadata": {},
   "source": [
    "You can also access sub-array of an existing array by using `slicing`. This is done by including the sequence `begin_idx:end_idx:step` into the square brackets used for indices.\n",
    "\n",
    "```{note}\n",
    "As it is typical in Python, indices referred with slicing includes the `begin_idx`, while do not include the `end_idx` (i.e. it ends at `end_idx - 1`).\n",
    "```"
   ]
  },
  {
   "cell_type": "code",
   "execution_count": null,
   "metadata": {},
   "outputs": [],
   "source": [
    "# Define a list\n",
    "l = [1, 3, 2, 4, 1, 6, 3, 9]\n",
    "print(l[2:4])"
   ]
  },
  {
   "cell_type": "markdown",
   "metadata": {},
   "source": [
    "### `if` statement\n",
    "The syntax for the `if` statement is as follows:\n",
    "\n",
    "```\n",
    "if <CONDITION>:\n",
    "    <IF_BODY>\n",
    "elif <ALTERNATIVE_CONDITION1>:\n",
    "    <ELSEIF_BODY1>\n",
    "elif ALTERNATIVE_CONDITION2:\n",
    "    <ELSEIF_BODY2>\n",
    "else:\n",
    "    <ALTERNATIVE_BODY>\n",
    "```\n",
    "\n",
    "We recall that the condition for the `if` statement is supposed to be a boolean variable, and the body inside of each block is executed if and only if the condition value is `True`. "
   ]
  },
  {
   "cell_type": "code",
   "execution_count": null,
   "metadata": {},
   "outputs": [],
   "source": [
    "# Define condition\n",
    "condition = True\n",
    "\n",
    "if condition:\n",
    "    print(\"Verified\")\n",
    "else:\n",
    "    print(\"Not verified\")"
   ]
  },
  {
   "cell_type": "markdown",
   "metadata": {},
   "source": [
    "To concatenate multiple conditions, use the connectives `and` (&), `or` (|), and `not` (! or ~). For example:"
   ]
  },
  {
   "cell_type": "code",
   "execution_count": null,
   "metadata": {},
   "outputs": [],
   "source": [
    "# Define three numbers\n",
    "a = 4\n",
    "b = 2\n",
    "c = 3\n",
    "\n",
    "# Check wether a > b \n",
    "condition_1 = a > b\n",
    "\n",
    "# And if a < c^2\n",
    "condition_2 = a < c**2\n",
    "\n",
    "# If the first is verified, while the second is not, print \"Ok!\"\n",
    "if (condition_1) and (not condition_2):\n",
    "    print(\"Ok!\")"
   ]
  },
  {
   "cell_type": "markdown",
   "metadata": {},
   "source": [
    "### Cycles: `for` and `while`\n",
    "As basically every other programming language, in Python there are two main ways to define cycles: the `for` (i.e. the **predetermined length** cycle) and the `while` (i.e. the **undetermined length** cycle).\n",
    "\n",
    "The syntax for the `for` cycle is as follows:\n",
    "\n",
    "```\n",
    "for <VARIABLE> in <ITERABLE>:\n",
    "    <FOR_BODY>\n",
    "```\n",
    "\n",
    "Where an iterable is any object such that it can be divided into sub-parts (e.g. `string`, `list`, `tuple`, `generator`, ...).\n",
    "The most common iterable used in `for` cycles is the `range`, whose syntax is `range(start, stop, step)`, which defines a generator, generating all integer numbers from `start` to `stop-1`, with the given `step`.\n",
    "\n",
    "The cycle will be repeated a number of times equal to the `len(<ITERABLE>)`, which is the number of sub-part of the `<ITERABLE>` (e.g. elements of the array), and the `for` `<VARIABLE>` will change its value every time, taking each successive element of the iterable. What follows is an example of usage of the `for` cycle."
   ]
  },
  {
   "cell_type": "code",
   "execution_count": null,
   "metadata": {},
   "outputs": [],
   "source": [
    "# Printing numbers from 0 to 4 (i.e. 5 - 1)\n",
    "for i in range(5): # when a single value is specified -> start = 0, step = 1.\n",
    "    print(i)"
   ]
  },
  {
   "cell_type": "markdown",
   "metadata": {},
   "source": [
    "Similarly, the `while` cycle syntax is as follows:\n",
    "\n",
    "```\n",
    "while <CONDITION>:\n",
    "    <WHILE_BODY>\n",
    "```\n",
    "\n",
    "And the body is repeated until the condition becomes `False`. \n",
    "\n",
    "When using `while` cycle, it is typical to keep track of the iteration number by using a counter variable, which is updated every iteration of the cycle.\n",
    "To avoid infite cycles, iterations are usually stopped after reaching a pre-determined number of iterations, with the `break` command."
   ]
  },
  {
   "cell_type": "code",
   "execution_count": null,
   "metadata": {},
   "outputs": [],
   "source": [
    "# Initialize the condition and max. iteration number\n",
    "cont = True\n",
    "maxit = 1_000\n",
    "\n",
    "# Initialize the counter\n",
    "i = 0\n",
    "\n",
    "# While cycle\n",
    "while cont:\n",
    "    if i == 5:\n",
    "        cont = False\n",
    "    print(i)\n",
    "\n",
    "    # Update the counter\n",
    "    i = i + 1\n",
    "\n",
    "    # Check maximum of iterations\n",
    "    if i >= maxit:\n",
    "        break"
   ]
  },
  {
   "cell_type": "markdown",
   "metadata": {},
   "source": [
    "### Functions\n",
    "A function is a portion of script which applies a transformation to a series of **input** variables and returns a series of **output** variables as a result.\n",
    "\n",
    "To define a function in Python, the command is as follows:\n",
    "\n",
    "```\n",
    "def <FUNCTION_NAME>(INPUT_1, INPUT_2, ..., INPUT_n):\n",
    "    <FUNCTION_BODY>\n",
    "\n",
    "    return <OUTPUT_1>, <OUTPUT_2>, ..., <OUTPUT_k>\n",
    "```\n",
    "\n",
    "For example, to define a function executing a sum of two numbers:"
   ]
  },
  {
   "cell_type": "code",
   "execution_count": null,
   "metadata": {},
   "outputs": [],
   "source": [
    "def summing(a, b):\n",
    "    s = a + b\n",
    "\n",
    "    return s\n",
    "\n",
    "print(summing(3, 2))"
   ]
  },
  {
   "cell_type": "markdown",
   "metadata": {},
   "source": [
    "When multiple outputs are returned, Python automatically collects them into a `tuple`, which is returned instead. We can then access the elements of that tuple to get the real outputs."
   ]
  },
  {
   "cell_type": "code",
   "execution_count": null,
   "metadata": {},
   "outputs": [],
   "source": [
    "def square_cube(n):\n",
    "    square = n**2\n",
    "    cube = n**3\n",
    "\n",
    "    return square, cube\n",
    "\n",
    "out = square_cube(3)\n",
    "square = out[0]\n",
    "cube = out[1]"
   ]
  },
  {
   "cell_type": "markdown",
   "metadata": {},
   "source": [
    "On the other side, when **no** outputs are returned, Python automatically returns a `None` variable instead."
   ]
  },
  {
   "cell_type": "code",
   "execution_count": null,
   "metadata": {},
   "outputs": [],
   "source": [
    "def hello(name):\n",
    "    print(f\"Hello, {name}!\")\n",
    "\n",
    "out = hello(\"World\")\n",
    "print(out)"
   ]
  },
  {
   "cell_type": "markdown",
   "metadata": {},
   "source": [
    "A key aspect of functions which will be important for the course, is that functions can be assigned to variables and given as input to other function. For example, consider the case where we have a function describing a mathematical function $f(x)$, another function describing the derivative of that function $f'(x)$, and a third function taking $f(x)$, $f'(x)$, and a value of $x$ as input and returning the quantity:\n",
    "\n",
    "$$\n",
    "x - \\frac{f(x)}{f'(x)}.\n",
    "$$\n",
    "\n",
    "Since the above formula correspond to a step of the Newton algorithm, we call this third function `Newton`."
   ]
  },
  {
   "cell_type": "code",
   "execution_count": null,
   "metadata": {},
   "outputs": [],
   "source": [
    "def f(x):\n",
    "    return x**2\n",
    "\n",
    "def df(x): # this HAS to be computed by hand!!\n",
    "    return 2*x\n",
    "\n",
    "def newton(f, df, x):\n",
    "    return x - f(x) / df(x)\n",
    "\n",
    "# Example\n",
    "x = 2\n",
    "print(newton(f, df, x))"
   ]
  },
  {
   "cell_type": "markdown",
   "metadata": {},
   "source": [
    "### Packages\n",
    "To increase the basic functionalities, Python provides a series of packages (called **built-in packages**), containing functions that provide advanced methods to work with math, random numbers, etc...\n",
    "\n",
    "To access a specific built-in package, the command is as follows:"
   ]
  },
  {
   "cell_type": "code",
   "execution_count": null,
   "metadata": {},
   "outputs": [],
   "source": [
    "# Load into memory a few packages\n",
    "import math\n",
    "import random\n",
    "\n",
    "# Print the exponential of a random number in the range (0, 1)\n",
    "x = random.random() # Random number in the range (0, 1)\n",
    "print(math.exp(x)) # Exponential of that number"
   ]
  },
  {
   "cell_type": "markdown",
   "metadata": {},
   "source": [
    "Remember that to call a function defined in a specified package, after importing it, it is required to specify the name of the package **before** every function, followed by a dot `.`.\n",
    "\n",
    "If the name of the package is long, it is possible to rename it during the import, as follows."
   ]
  },
  {
   "cell_type": "code",
   "execution_count": null,
   "metadata": {},
   "outputs": [],
   "source": [
    "import random as rnd\n",
    "\n",
    "x = rnd.random()\n",
    "print(x)"
   ]
  },
  {
   "cell_type": "markdown",
   "metadata": {},
   "source": [
    "Most of the packages we will care about during the course, however, are **not** built-in. Therefore, they have to be installed manually by opening the terminal, activating your virtual environment, and type the command:\n",
    "\n",
    "```\n",
    "conda install <package_name>\n",
    "```\n",
    "\n",
    "or, equivalently\n",
    "\n",
    "```\n",
    "pip install <package_name>\n",
    "```\n",
    "\n",
    "The package can be imported as if it was built-in, after the installation.\n",
    "\n",
    "```{note}\n",
    "If you are using the laboratories computers, all the required packages should be already available as they have been previously installed by the technician.\n",
    "```\n",
    "\n",
    "The required packages to be installed for the course are:\n",
    "\n",
    "- `numpy`\n",
    "- `scipy`\n",
    "- `matplotlib`\n",
    "- `pandas`\n",
    "- `scikit-learn`"
   ]
  },
  {
   "cell_type": "markdown",
   "metadata": {},
   "source": [
    "### Path\n",
    "A key concept which is also particularly relevant for this course is the concept of `path`. The `path` is the address that describes a position of a specific file on your computer, and being able to describe the path for a specific file in Python will be important, for example, to load a dataset which is saved into a `.csv` file.\n",
    "\n",
    "There are two kind of paths: the **absolute path**"
   ]
  },
  {
   "cell_type": "markdown",
   "metadata": {},
   "source": [
    "### Errors"
   ]
  }
 ],
 "metadata": {
  "kernelspec": {
   "display_name": "nn",
   "language": "python",
   "name": "python3"
  },
  "language_info": {
   "codemirror_mode": {
    "name": "ipython",
    "version": 3
   },
   "file_extension": ".py",
   "mimetype": "text/x-python",
   "name": "python",
   "nbconvert_exporter": "python",
   "pygments_lexer": "ipython3",
   "version": "3.12.2"
  }
 },
 "nbformat": 4,
 "nbformat_minor": 2
}
